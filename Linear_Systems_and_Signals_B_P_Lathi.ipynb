{
  "nbformat": 4,
  "nbformat_minor": 0,
  "metadata": {
    "colab": {
      "provenance": [],
      "collapsed_sections": [
        "ECFlzEjxW6vw"
      ],
      "authorship_tag": "ABX9TyO5h3crOLyS71cj0PwGl4g1"
    },
    "kernelspec": {
      "name": "python3",
      "display_name": "Python 3"
    },
    "language_info": {
      "name": "python"
    }
  },
  "cells": [
    {
      "cell_type": "markdown",
      "source": [
        "#Capítulo B - Background"
      ],
      "metadata": {
        "id": "MmDrS74e5oyu"
      }
    },
    {
      "cell_type": "markdown",
      "source": [
        "## Setup"
      ],
      "metadata": {
        "id": "tUs3wfRUiBHX"
      }
    },
    {
      "cell_type": "code",
      "source": [
        "import numpy as np\n",
        "import sympy as sym\n",
        "import scipy\n",
        "from IPython.display import display, Math\n",
        "import matplotlib.pyplot as plt"
      ],
      "metadata": {
        "id": "oOgzT4fY5T7G"
      },
      "execution_count": 1,
      "outputs": []
    },
    {
      "cell_type": "code",
      "source": [
        "def increase_font():\n",
        "  from IPython.display import Javascript\n",
        "  display(Javascript('''\n",
        "  for (rule of document.styleSheets[0].cssRules){\n",
        "    if (rule.selectorText=='body') {\n",
        "      rule.style.fontSize = '18px'\n",
        "      break\n",
        "    }\n",
        "  }\n",
        "  '''))"
      ],
      "metadata": {
        "id": "clYrtMq-__Fk"
      },
      "execution_count": 2,
      "outputs": []
    },
    {
      "cell_type": "code",
      "source": [
        "import matplotlib.pyplot as plt\n",
        "import numpy as np\n",
        "\n",
        "from matplotlib.patches import Arc\n",
        "from matplotlib.transforms import Bbox, IdentityTransform, TransformedBbox\n",
        "\n",
        "\n",
        "class AngleAnnotation(Arc):\n",
        "    \"\"\"\n",
        "    Draws an arc between two vectors which appears circular in display space.\n",
        "    \"\"\"\n",
        "    def __init__(self, xy, p1, p2, size=75, unit=\"points\", ax=None,\n",
        "                 text=\"\", textposition=\"inside\", text_kw=None, **kwargs):\n",
        "        \"\"\"\n",
        "        Parameters\n",
        "        ----------\n",
        "        xy, p1, p2 : tuple or array of two floats\n",
        "            Center position and two points. Angle annotation is drawn between\n",
        "            the two vectors connecting *p1* and *p2* with *xy*, respectively.\n",
        "            Units are data coordinates.\n",
        "\n",
        "        size : float\n",
        "            Diameter of the angle annotation in units specified by *unit*.\n",
        "\n",
        "        unit : str\n",
        "            One of the following strings to specify the unit of *size*:\n",
        "\n",
        "            * \"pixels\": pixels\n",
        "            * \"points\": points, use points instead of pixels to not have a\n",
        "              dependence on the DPI\n",
        "            * \"axes width\", \"axes height\": relative units of Axes width, height\n",
        "            * \"axes min\", \"axes max\": minimum or maximum of relative Axes\n",
        "              width, height\n",
        "\n",
        "        ax : `matplotlib.axes.Axes`\n",
        "            The Axes to add the angle annotation to.\n",
        "\n",
        "        text : str\n",
        "            The text to mark the angle with.\n",
        "\n",
        "        textposition : {\"inside\", \"outside\", \"edge\"}\n",
        "            Whether to show the text in- or outside the arc. \"edge\" can be used\n",
        "            for custom positions anchored at the arc's edge.\n",
        "\n",
        "        text_kw : dict\n",
        "            Dictionary of arguments passed to the Annotation.\n",
        "\n",
        "        **kwargs\n",
        "            Further parameters are passed to `matplotlib.patches.Arc`. Use this\n",
        "            to specify, color, linewidth etc. of the arc.\n",
        "\n",
        "        \"\"\"\n",
        "        self.ax = ax or plt.gca()\n",
        "        self._xydata = xy  # in data coordinates\n",
        "        self.vec1 = p1\n",
        "        self.vec2 = p2\n",
        "        self.size = size\n",
        "        self.unit = unit\n",
        "        self.textposition = textposition\n",
        "\n",
        "        super().__init__(self._xydata, size, size, angle=0.0,\n",
        "                         theta1=self.theta1, theta2=self.theta2, **kwargs)\n",
        "\n",
        "        self.set_transform(IdentityTransform())\n",
        "        self.ax.add_patch(self)\n",
        "\n",
        "        self.kw = dict(ha=\"center\", va=\"center\",\n",
        "                       xycoords=IdentityTransform(),\n",
        "                       xytext=(0, 0), textcoords=\"offset points\",\n",
        "                       annotation_clip=True)\n",
        "        self.kw.update(text_kw or {})\n",
        "        self.text = ax.annotate(text, xy=self._center, **self.kw)\n",
        "\n",
        "    def get_size(self):\n",
        "        factor = 1.\n",
        "        if self.unit == \"points\":\n",
        "            factor = self.ax.figure.dpi / 72.\n",
        "        elif self.unit[:4] == \"axes\":\n",
        "            b = TransformedBbox(Bbox.unit(), self.ax.transAxes)\n",
        "            dic = {\"max\": max(b.width, b.height),\n",
        "                   \"min\": min(b.width, b.height),\n",
        "                   \"width\": b.width, \"height\": b.height}\n",
        "            factor = dic[self.unit[5:]]\n",
        "        return self.size * factor\n",
        "\n",
        "    def set_size(self, size):\n",
        "        self.size = size\n",
        "\n",
        "    def get_center_in_pixels(self):\n",
        "        \"\"\"return center in pixels\"\"\"\n",
        "        return self.ax.transData.transform(self._xydata)\n",
        "\n",
        "    def set_center(self, xy):\n",
        "        \"\"\"set center in data coordinates\"\"\"\n",
        "        self._xydata = xy\n",
        "\n",
        "    def get_theta(self, vec):\n",
        "        vec_in_pixels = self.ax.transData.transform(vec) - self._center\n",
        "        return np.rad2deg(np.arctan2(vec_in_pixels[1], vec_in_pixels[0]))\n",
        "\n",
        "    def get_theta1(self):\n",
        "        return self.get_theta(self.vec1)\n",
        "\n",
        "    def get_theta2(self):\n",
        "        return self.get_theta(self.vec2)\n",
        "\n",
        "    def set_theta(self, angle):\n",
        "        pass\n",
        "\n",
        "    # Redefine attributes of the Arc to always give values in pixel space\n",
        "    _center = property(get_center_in_pixels, set_center)\n",
        "    theta1 = property(get_theta1, set_theta)\n",
        "    theta2 = property(get_theta2, set_theta)\n",
        "    width = property(get_size, set_size)\n",
        "    height = property(get_size, set_size)\n",
        "\n",
        "    # The following two methods are needed to update the text position.\n",
        "    def draw(self, renderer):\n",
        "        self.update_text()\n",
        "        super().draw(renderer)\n",
        "\n",
        "    def update_text(self):\n",
        "        c = self._center\n",
        "        s = self.get_size()\n",
        "        angle_span = (self.theta2 - self.theta1) % 360\n",
        "        angle = np.deg2rad(self.theta1 + angle_span / 2)\n",
        "        r = s / 2\n",
        "        if self.textposition == \"inside\":\n",
        "            r = s / np.interp(angle_span, [60, 90, 135, 180],\n",
        "                                          [3.3, 3.5, 3.8, 4])\n",
        "        self.text.xy = c + r * np.array([np.cos(angle), np.sin(angle)])\n",
        "        if self.textposition == \"outside\":\n",
        "            def R90(a, r, w, h):\n",
        "                if a < np.arctan(h/2/(r+w/2)):\n",
        "                    return np.sqrt((r+w/2)**2 + (np.tan(a)*(r+w/2))**2)\n",
        "                else:\n",
        "                    c = np.sqrt((w/2)**2+(h/2)**2)\n",
        "                    T = np.arcsin(c * np.cos(np.pi/2 - a + np.arcsin(h/2/c))/r)\n",
        "                    xy = r * np.array([np.cos(a + T), np.sin(a + T)])\n",
        "                    xy += np.array([w/2, h/2])\n",
        "                    return np.sqrt(np.sum(xy**2))\n",
        "\n",
        "            def R(a, r, w, h):\n",
        "                aa = (a % (np.pi/4))*((a % (np.pi/2)) <= np.pi/4) + \\\n",
        "                     (np.pi/4 - (a % (np.pi/4)))*((a % (np.pi/2)) >= np.pi/4)\n",
        "                return R90(aa, r, *[w, h][::int(np.sign(np.cos(2*a)))])\n",
        "\n",
        "            bbox = self.text.get_window_extent()\n",
        "            X = R(angle, r, bbox.width, bbox.height)\n",
        "            trans = self.ax.figure.dpi_scale_trans.inverted()\n",
        "            offs = trans.transform(((X-s/2), 0))[0] * 72\n",
        "            self.text.set_position([offs*np.cos(angle), offs*np.sin(angle)])"
      ],
      "metadata": {
        "id": "-wKj1WYKh32v"
      },
      "execution_count": 3,
      "outputs": []
    },
    {
      "cell_type": "markdown",
      "source": [
        "##Exemplo B.1\n",
        "\n",
        "Determine os seguintes números na forma polar:\n",
        "\n",
        "$\n",
        "a)\\:2 + j3\n",
        "\\\\b) -2 + j1\n",
        "\\\\c) -2 - j3\n",
        "\\\\d)\\:1 - j3\n",
        "$"
      ],
      "metadata": {
        "id": "0Em7M4Bd3L9B"
      }
    },
    {
      "cell_type": "code",
      "source": [
        "def exampleb1(real, imag):\n",
        "  a = real + imag * 1j # 2 + 3j\n",
        "  mod_a = sym.sqrt((real**2 + imag**2))\n",
        "  theta = np.rad2deg(np.arctan2(imag, real))\n",
        "\n",
        "  increase_font()\n",
        "  display(Math('z = %d + %dj = %s e^{j%s\\degree}' %(real, imag, sym.latex(mod_a), round(theta, 2))))\n",
        "  print('\\n')\n",
        "  plt.plot(real, imag, 'ro')\n",
        "  plt.axis('square')\n",
        "  plt.xlim([-5,5])\n",
        "  plt.ylim([-5,5])\n",
        "  plt.grid()\n",
        "  axis = plt.gca()\n",
        "  plt.plot([0, real], [0, imag], 'r')\n",
        "  plt.plot(axis.get_xlim(),[0,0],'k--')\n",
        "  plt.plot([0,0],axis.get_ylim(),'k--')\n",
        "  plt.show()"
      ],
      "metadata": {
        "id": "Oc5PuJ1Y3SX-"
      },
      "execution_count": null,
      "outputs": []
    },
    {
      "cell_type": "code",
      "source": [
        "real = 2\n",
        "imag = 3\n",
        "exampleb1(real, imag)"
      ],
      "metadata": {
        "colab": {
          "base_uri": "https://localhost:8080/",
          "height": 503
        },
        "id": "7QsJEoU5GwxF",
        "outputId": "6ac27b55-cb6c-4f4f-c2cd-dbb17b5f434a"
      },
      "execution_count": null,
      "outputs": [
        {
          "output_type": "display_data",
          "data": {
            "text/plain": [
              "<IPython.core.display.Javascript object>"
            ],
            "application/javascript": [
              "\n",
              "  for (rule of document.styleSheets[0].cssRules){\n",
              "    if (rule.selectorText=='body') {\n",
              "      rule.style.fontSize = '18px'\n",
              "      break\n",
              "    }\n",
              "  }\n",
              "  "
            ]
          },
          "metadata": {}
        },
        {
          "output_type": "display_data",
          "data": {
            "text/plain": [
              "<IPython.core.display.Math object>"
            ],
            "text/latex": "$\\displaystyle z = 2 + 3j = \\sqrt{13} e^{j56.31\\degree}$"
          },
          "metadata": {}
        },
        {
          "output_type": "stream",
          "name": "stdout",
          "text": [
            "\n",
            "\n"
          ]
        },
        {
          "output_type": "display_data",
          "data": {
            "text/plain": [
              "<Figure size 640x480 with 1 Axes>"
            ],
            "image/png": "[encoded data removed]"
          },
          "metadata": {}
        }
      ]
    },
    {
      "cell_type": "code",
      "source": [
        "real = -2\n",
        "imag = 1\n",
        "exampleb1(real, imag)"
      ],
      "metadata": {
        "colab": {
          "base_uri": "https://localhost:8080/",
          "height": 503
        },
        "id": "2iDHyyaiAb4y",
        "outputId": "e8b14192-65df-431f-83e3-0498e15d79f2"
      },
      "execution_count": null,
      "outputs": [
        {
          "output_type": "display_data",
          "data": {
            "text/plain": [
              "<IPython.core.display.Javascript object>"
            ],
            "application/javascript": [
              "\n",
              "  for (rule of document.styleSheets[0].cssRules){\n",
              "    if (rule.selectorText=='body') {\n",
              "      rule.style.fontSize = '18px'\n",
              "      break\n",
              "    }\n",
              "  }\n",
              "  "
            ]
          },
          "metadata": {}
        },
        {
          "output_type": "display_data",
          "data": {
            "text/plain": [
              "<IPython.core.display.Math object>"
            ],
            "text/latex": "$\\displaystyle z = -2 + 1j = \\sqrt{5} e^{j153.43\\degree}$"
          },
          "metadata": {}
        },
        {
          "output_type": "stream",
          "name": "stdout",
          "text": [
            "\n",
            "\n"
          ]
        },
        {
          "output_type": "display_data",
          "data": {
            "text/plain": [
              "<Figure size 640x480 with 1 Axes>"
            ],
            "image/png": "[encoded data removed]"
          },
          "metadata": {}
        }
      ]
    },
    {
      "cell_type": "code",
      "source": [
        "real = -2\n",
        "imag = -3\n",
        "exampleb1(real, imag)"
      ],
      "metadata": {
        "colab": {
          "base_uri": "https://localhost:8080/",
          "height": 503
        },
        "id": "DK887RekG-v1",
        "outputId": "8ada2a0e-cb1d-493b-a5b7-dade018fbf95"
      },
      "execution_count": null,
      "outputs": [
        {
          "output_type": "display_data",
          "data": {
            "text/plain": [
              "<IPython.core.display.Javascript object>"
            ],
            "application/javascript": [
              "\n",
              "  for (rule of document.styleSheets[0].cssRules){\n",
              "    if (rule.selectorText=='body') {\n",
              "      rule.style.fontSize = '18px'\n",
              "      break\n",
              "    }\n",
              "  }\n",
              "  "
            ]
          },
          "metadata": {}
        },
        {
          "output_type": "display_data",
          "data": {
            "text/plain": [
              "<IPython.core.display.Math object>"
            ],
            "text/latex": "$\\displaystyle z = -2 + -3j = \\sqrt{13} e^{j-123.69\\degree}$"
          },
          "metadata": {}
        },
        {
          "output_type": "stream",
          "name": "stdout",
          "text": [
            "\n",
            "\n"
          ]
        },
        {
          "output_type": "display_data",
          "data": {
            "text/plain": [
              "<Figure size 640x480 with 1 Axes>"
            ],
            "image/png": "[encoded data removed]"
          },
          "metadata": {}
        }
      ]
    },
    {
      "cell_type": "code",
      "source": [
        "real = 1\n",
        "imag = -3\n",
        "exampleb1(real, imag)"
      ],
      "metadata": {
        "colab": {
          "base_uri": "https://localhost:8080/",
          "height": 503
        },
        "id": "1MPdAGBVHHqb",
        "outputId": "6c70b174-072b-4f8b-eb05-1b49344abc07"
      },
      "execution_count": null,
      "outputs": [
        {
          "output_type": "display_data",
          "data": {
            "text/plain": [
              "<IPython.core.display.Javascript object>"
            ],
            "application/javascript": [
              "\n",
              "  for (rule of document.styleSheets[0].cssRules){\n",
              "    if (rule.selectorText=='body') {\n",
              "      rule.style.fontSize = '18px'\n",
              "      break\n",
              "    }\n",
              "  }\n",
              "  "
            ]
          },
          "metadata": {}
        },
        {
          "output_type": "display_data",
          "data": {
            "text/plain": [
              "<IPython.core.display.Math object>"
            ],
            "text/latex": "$\\displaystyle z = 1 + -3j = \\sqrt{10} e^{j-71.57\\degree}$"
          },
          "metadata": {}
        },
        {
          "output_type": "stream",
          "name": "stdout",
          "text": [
            "\n",
            "\n"
          ]
        },
        {
          "output_type": "display_data",
          "data": {
            "text/plain": [
              "<Figure size 640x480 with 1 Axes>"
            ],
            "image/png": "[encoded data removed]"
          },
          "metadata": {}
        }
      ]
    },
    {
      "cell_type": "markdown",
      "source": [
        "##Exemplo de Computador CB.1\n",
        "\n",
        "Usando a função cart2poldo MATLAB, converta os seguintes números da forma Cartesiana para a for\n",
        "ma polar:\n",
        "\n",
        "$\n",
        "\\:(a)\\:z = 2 + 3 \\\\\n",
        "\\:(b)\\:z = -2 + j\n",
        "$"
      ],
      "metadata": {
        "id": "iqVhd6ZL56zo"
      }
    },
    {
      "cell_type": "code",
      "source": [
        "az = 2 + 3j\n",
        "bz = -2 + 1j\n",
        "\n",
        "azmag = np.abs(az)\n",
        "azrad = np.angle(az)\n",
        "azdeg = np.angle(az, deg=True)\n",
        "\n",
        "bzmag = np.abs(bz)\n",
        "bzrad = np.angle(bz)\n",
        "bzdeg = np.angle(bz, deg=True)\n",
        "\n",
        "display(Math('z = 2 + 3j = %s e^{j%s} = %s e^{j%s}' %(round(azmag,4), round(azrad,2), round(azmag,4), round(azdeg,2))))\n",
        "display(Math('z = -2 + 1j = %s e^{j%s} = %s e^{j%s}' %(round(bzmag,4), round(bzrad,2), round(bzmag,4), round(bzdeg,2))))"
      ],
      "metadata": {
        "colab": {
          "base_uri": "https://localhost:8080/",
          "height": 60
        },
        "id": "AlTteDP06Ecw",
        "outputId": "6d0c6dd9-c3ff-42ba-8fe3-43be04c2d53a"
      },
      "execution_count": null,
      "outputs": [
        {
          "output_type": "display_data",
          "data": {
            "text/plain": [
              "<IPython.core.display.Math object>"
            ],
            "text/latex": "$\\displaystyle z = 2 + 3j = 3.6056 e^{j0.98} = 3.6056 e^{j56.31}$"
          },
          "metadata": {}
        },
        {
          "output_type": "display_data",
          "data": {
            "text/plain": [
              "<IPython.core.display.Math object>"
            ],
            "text/latex": "$\\displaystyle z = -2 + 1j = 2.2361 e^{j2.68} = 2.2361 e^{j153.43}$"
          },
          "metadata": {}
        }
      ]
    },
    {
      "cell_type": "markdown",
      "source": [
        "## Exemplo B.2\n",
        "\n",
        "Represente os seguintes números no plano complexo e expresse-os na forma Cartesiana:\n",
        "\n",
        "$\n",
        "(a)\\:2e^{j\\pi/3}\\\\\n",
        "(b)\\:4e^{-j3\\pi/4}\\\\\n",
        "(c)\\:2e^{j\\pi/2}\\\\\n",
        "(d)\\:3e^{-j3\\pi}\\\\\n",
        "(e)\\:2e^{j4\\pi}\\\\\n",
        "(f)\\:2e^{-j4\\pi}\\\\\n",
        "$"
      ],
      "metadata": {
        "id": "T5VCrActIzzR"
      }
    },
    {
      "cell_type": "markdown",
      "source": [
        "$r(\\cos{\\theta} + j \\sin{\\theta})$"
      ],
      "metadata": {
        "id": "mdXDrEOqv_Eh"
      }
    },
    {
      "cell_type": "code",
      "source": [
        "def exampleb2(mod, angle, xlim=[-5,5], ylim=[-5,5]):\n",
        "  result = mod*(sym.cos(angle) + sym.sin(angle) * 1j)\n",
        "  l_angle = sym.latex(angle)\n",
        "  increase_font()\n",
        "  signal = '+' if angle.is_positive else '-'\n",
        "  display(Math('%s e^{i%s} = %s(\\cos{%s} %s i \\sin{%s}) = %s' %(mod, l_angle, mod, l_angle, signal, l_angle, sym.latex(result))))\n",
        "  real, imag = result.as_real_imag()\n",
        "  print('\\n')\n",
        "  fig, ax = plt.subplots()\n",
        "  ax.plot(real, imag, 'ro')\n",
        "  ax.text(real + 0.1, imag, '$%s e^{j \\\\ %s}$' %(mod, l_angle), fontsize=12)\n",
        "  am1 = AngleAnnotation((0,0), [float(real), 0], [float(real), float(imag)], ax=ax, size=75, text=rf\"${l_angle}$\")\n",
        "  ax.plot(0, )\n",
        "  ax.axis('square')\n",
        "  plt.xlabel('Real')\n",
        "  plt.ylabel('Imag')\n",
        "  plt.xlim(xlim)\n",
        "  plt.ylim(ylim)\n",
        "  ax.grid()\n",
        "  axis = plt.gca()\n",
        "  ax.plot([0, real], [0, imag], 'r', linewidth=2.5)\n",
        "  ax.plot(axis.get_xlim(),[0,0],'k--')\n",
        "  ax.plot([0,0],axis.get_ylim(),'k--')\n",
        "  plt.show()"
      ],
      "metadata": {
        "id": "K6oGfc16JycA"
      },
      "execution_count": null,
      "outputs": []
    },
    {
      "cell_type": "code",
      "source": [
        "exampleb2(2, sym.pi/3, xlim=[-1,2.5], ylim=[-1,3])"
      ],
      "metadata": {
        "colab": {
          "base_uri": "https://localhost:8080/",
          "height": 539
        },
        "id": "QkxPV3eyxAom",
        "outputId": "ba6f1a14-b6cc-4c49-ca1c-ca8464491d05"
      },
      "execution_count": null,
      "outputs": [
        {
          "output_type": "display_data",
          "data": {
            "text/plain": [
              "<IPython.core.display.Javascript object>"
            ],
            "application/javascript": [
              "\n",
              "  for (rule of document.styleSheets[0].cssRules){\n",
              "    if (rule.selectorText=='body') {\n",
              "      rule.style.fontSize = '18px'\n",
              "      break\n",
              "    }\n",
              "  }\n",
              "  "
            ]
          },
          "metadata": {}
        },
        {
          "output_type": "display_data",
          "data": {
            "text/plain": [
              "<IPython.core.display.Math object>"
            ],
            "text/latex": "$\\displaystyle 2 e^{i\\frac{\\pi}{3}} = 2(\\cos{\\frac{\\pi}{3}} + i \\sin{\\frac{\\pi}{3}}) = 1 + \\sqrt{3} i$"
          },
          "metadata": {}
        },
        {
          "output_type": "stream",
          "name": "stdout",
          "text": [
            "\n",
            "\n"
          ]
        },
        {
          "output_type": "display_data",
          "data": {
            "text/plain": [
              "<Figure size 640x480 with 1 Axes>"
            ],
            "image/png": "[encoded data removed]"
          },
          "metadata": {}
        }
      ]
    },
    {
      "cell_type": "code",
      "source": [
        "exampleb2(4, -3*sym.pi/4, xlim=[-4,1], ylim=[-4,1])"
      ],
      "metadata": {
        "colab": {
          "base_uri": "https://localhost:8080/",
          "height": 543
        },
        "id": "bLXvtG4V2B85",
        "outputId": "794c3556-c88d-4bf0-ecf1-a2bc45b3dab1"
      },
      "execution_count": null,
      "outputs": [
        {
          "output_type": "display_data",
          "data": {
            "text/plain": [
              "<IPython.core.display.Javascript object>"
            ],
            "application/javascript": [
              "\n",
              "  for (rule of document.styleSheets[0].cssRules){\n",
              "    if (rule.selectorText=='body') {\n",
              "      rule.style.fontSize = '18px'\n",
              "      break\n",
              "    }\n",
              "  }\n",
              "  "
            ]
          },
          "metadata": {}
        },
        {
          "output_type": "display_data",
          "data": {
            "text/plain": [
              "<IPython.core.display.Math object>"
            ],
            "text/latex": "$\\displaystyle 4 e^{i- \\frac{3 \\pi}{4}} = 4(\\cos{- \\frac{3 \\pi}{4}} - i \\sin{- \\frac{3 \\pi}{4}}) = - 2 \\sqrt{2} - 2.0 \\sqrt{2} i$"
          },
          "metadata": {}
        },
        {
          "output_type": "stream",
          "name": "stdout",
          "text": [
            "\n",
            "\n"
          ]
        },
        {
          "output_type": "display_data",
          "data": {
            "text/plain": [
              "<Figure size 640x480 with 1 Axes>"
            ],
            "image/png": "[encoded data removed]"
          },
          "metadata": {}
        }
      ]
    },
    {
      "cell_type": "code",
      "source": [
        "exampleb2(2, sym.pi/2, xlim=[-2,3], ylim=[-1,4])"
      ],
      "metadata": {
        "colab": {
          "base_uri": "https://localhost:8080/",
          "height": 539
        },
        "id": "alBVvsuX2pf_",
        "outputId": "37275264-f172-44aa-d396-c9ea8cb83aab"
      },
      "execution_count": null,
      "outputs": [
        {
          "output_type": "display_data",
          "data": {
            "text/plain": [
              "<IPython.core.display.Javascript object>"
            ],
            "application/javascript": [
              "\n",
              "  for (rule of document.styleSheets[0].cssRules){\n",
              "    if (rule.selectorText=='body') {\n",
              "      rule.style.fontSize = '18px'\n",
              "      break\n",
              "    }\n",
              "  }\n",
              "  "
            ]
          },
          "metadata": {}
        },
        {
          "output_type": "display_data",
          "data": {
            "text/plain": [
              "<IPython.core.display.Math object>"
            ],
            "text/latex": "$\\displaystyle 2 e^{i\\frac{\\pi}{2}} = 2(\\cos{\\frac{\\pi}{2}} + i \\sin{\\frac{\\pi}{2}}) = 2.0 i$"
          },
          "metadata": {}
        },
        {
          "output_type": "stream",
          "name": "stdout",
          "text": [
            "\n",
            "\n"
          ]
        },
        {
          "output_type": "display_data",
          "data": {
            "text/plain": [
              "<Figure size 640x480 with 1 Axes>"
            ],
            "image/png": "[encoded data removed]"
          },
          "metadata": {}
        }
      ]
    },
    {
      "cell_type": "code",
      "source": [
        "exampleb2(3, -3*sym.pi, xlim=[-4,1], ylim=[-2,2])"
      ],
      "metadata": {
        "colab": {
          "base_uri": "https://localhost:8080/",
          "height": 527
        },
        "id": "u0rQ7Atj2rK-",
        "outputId": "6f7828d8-040a-47f0-9557-570c888f2204"
      },
      "execution_count": null,
      "outputs": [
        {
          "output_type": "display_data",
          "data": {
            "text/plain": [
              "<IPython.core.display.Javascript object>"
            ],
            "application/javascript": [
              "\n",
              "  for (rule of document.styleSheets[0].cssRules){\n",
              "    if (rule.selectorText=='body') {\n",
              "      rule.style.fontSize = '18px'\n",
              "      break\n",
              "    }\n",
              "  }\n",
              "  "
            ]
          },
          "metadata": {}
        },
        {
          "output_type": "display_data",
          "data": {
            "text/plain": [
              "<IPython.core.display.Math object>"
            ],
            "text/latex": "$\\displaystyle 3 e^{i- 3 \\pi} = 3(\\cos{- 3 \\pi} - i \\sin{- 3 \\pi}) = -3$"
          },
          "metadata": {}
        },
        {
          "output_type": "stream",
          "name": "stdout",
          "text": [
            "\n",
            "\n"
          ]
        },
        {
          "output_type": "display_data",
          "data": {
            "text/plain": [
              "<Figure size 640x480 with 1 Axes>"
            ],
            "image/png": "[encoded data removed]"
          },
          "metadata": {}
        }
      ]
    },
    {
      "cell_type": "code",
      "source": [
        "exampleb2(2, 4*sym.pi, xlim=[-1,4], ylim=[-2,2])"
      ],
      "metadata": {
        "colab": {
          "base_uri": "https://localhost:8080/",
          "height": 527
        },
        "id": "MkP_rupM2sWB",
        "outputId": "0fcd113c-cf08-42de-97ba-ed979b510929"
      },
      "execution_count": null,
      "outputs": [
        {
          "output_type": "display_data",
          "data": {
            "text/plain": [
              "<IPython.core.display.Javascript object>"
            ],
            "application/javascript": [
              "\n",
              "  for (rule of document.styleSheets[0].cssRules){\n",
              "    if (rule.selectorText=='body') {\n",
              "      rule.style.fontSize = '18px'\n",
              "      break\n",
              "    }\n",
              "  }\n",
              "  "
            ]
          },
          "metadata": {}
        },
        {
          "output_type": "display_data",
          "data": {
            "text/plain": [
              "<IPython.core.display.Math object>"
            ],
            "text/latex": "$\\displaystyle 2 e^{i4 \\pi} = 2(\\cos{4 \\pi} + i \\sin{4 \\pi}) = 2$"
          },
          "metadata": {}
        },
        {
          "output_type": "stream",
          "name": "stdout",
          "text": [
            "\n",
            "\n"
          ]
        },
        {
          "output_type": "display_data",
          "data": {
            "text/plain": [
              "<Figure size 640x480 with 1 Axes>"
            ],
            "image/png": "[encoded data removed]"
          },
          "metadata": {}
        }
      ]
    },
    {
      "cell_type": "code",
      "source": [
        "exampleb2(2, -4*sym.pi, xlim=[-1,4], ylim=[-2,2])"
      ],
      "metadata": {
        "colab": {
          "base_uri": "https://localhost:8080/",
          "height": 527
        },
        "id": "gwQnFfKc2tga",
        "outputId": "a0cf4bf0-f114-4e93-a34a-dd5a6cfca7ca"
      },
      "execution_count": null,
      "outputs": [
        {
          "output_type": "display_data",
          "data": {
            "text/plain": [
              "<IPython.core.display.Javascript object>"
            ],
            "application/javascript": [
              "\n",
              "  for (rule of document.styleSheets[0].cssRules){\n",
              "    if (rule.selectorText=='body') {\n",
              "      rule.style.fontSize = '18px'\n",
              "      break\n",
              "    }\n",
              "  }\n",
              "  "
            ]
          },
          "metadata": {}
        },
        {
          "output_type": "display_data",
          "data": {
            "text/plain": [
              "<IPython.core.display.Math object>"
            ],
            "text/latex": "$\\displaystyle 2 e^{i- 4 \\pi} = 2(\\cos{- 4 \\pi} - i \\sin{- 4 \\pi}) = 2$"
          },
          "metadata": {}
        },
        {
          "output_type": "stream",
          "name": "stdout",
          "text": [
            "\n",
            "\n"
          ]
        },
        {
          "output_type": "display_data",
          "data": {
            "text/plain": [
              "<Figure size 640x480 with 1 Axes>"
            ],
            "image/png": "[encoded data removed]"
          },
          "metadata": {}
        }
      ]
    },
    {
      "cell_type": "markdown",
      "source": [
        "## EXEMPLO DE COMPUTADOR CB.2\n",
        "\n",
        "Usando a função pol2cart do MATLAB, converta o número $z=4e^{–j(3π/4)}$ da forma polar para a forma Cartesiana."
      ],
      "metadata": {
        "id": "mjsZNnCv6z27"
      }
    },
    {
      "cell_type": "code",
      "source": [
        "def cart2pol(x, y):\n",
        "    rho = np.sqrt((x**2 + y**2))\n",
        "    phi = np.arctan2(y, x)\n",
        "    return(rho, phi)\n",
        "\n",
        "def pol2cart(rho, phi):\n",
        "    x = rho * np.cos(phi)\n",
        "    y = rho * np.sin(phi)\n",
        "    return(x, y)\n",
        "\n",
        "z_real, z_imag = pol2cart(4, -3*np.pi/4)\n",
        "display(Math('z = 4e^{-j3\\pi/4} = %s %sj' %(round(z_real,4), round(z_imag,4))))"
      ],
      "metadata": {
        "colab": {
          "base_uri": "https://localhost:8080/",
          "height": 39
        },
        "id": "rtgdHXAM6-h_",
        "outputId": "dd12ce71-42eb-4732-b598-a98bacdc6426"
      },
      "execution_count": 8,
      "outputs": [
        {
          "output_type": "display_data",
          "data": {
            "text/plain": [
              "<IPython.core.display.Math object>"
            ],
            "text/latex": "$\\displaystyle z = 4e^{-j3\\pi/4} = -2.8284 -2.8284j$"
          },
          "metadata": {}
        }
      ]
    },
    {
      "cell_type": "markdown",
      "source": [
        "## Exemplo B.3\n",
        "\n",
        "Determine $z_1 z_2$ e $z_1/z_2$ para os números\n",
        "\n",
        "> $\n",
        "z_1 = 3 + j4 = 5e^{j53,1 °}\\\\\n",
        "z_2 = 2 + j3 = \\sqrt{13}e^{j56,3 °}\n",
        "$\n",
        "\n",
        "Nós devemos resolver este problema tanto na forma polar quanto na forma cartesiana."
      ],
      "metadata": {
        "id": "rYINgI8FAONz"
      }
    },
    {
      "cell_type": "code",
      "source": [
        "z1 = 3 + 4j\n",
        "z2 = 2 + 3j\n",
        "\n",
        "z1divz2 = z1/z2\n",
        "z1divz2 = round(z1divz2.real, 2) + round(z1divz2.imag, 2) * 1j\n",
        "\n",
        "increase_font()\n",
        "display(Math('z_1 z_2 = %s %s = (6-12) + j(8+9) = %s' %(z1, z2, z1*z2)))\n",
        "print('\\n')\n",
        "display(Math('\\\\frac{z_1}{z_2} = \\\\frac{%s}{%s} = \\\\frac{%s%s}{%s%s} = \\\\frac{%s}{2^2 + 3^2} = \\\\frac{%s}{13} = \\\\frac{18}{13} - j\\\\frac{1}{13} = %s' %(z1, z2, z1, np.conj(z2), z2, np.conj(z2), z1*np.conj(z2), z1*np.conj(z2), z1divz2)))"
      ],
      "metadata": {
        "colab": {
          "base_uri": "https://localhost:8080/",
          "height": 141
        },
        "id": "CRIF-vM7BwjP",
        "outputId": "fe15408b-1cd6-47f0-f27c-ce268ce9423d"
      },
      "execution_count": 10,
      "outputs": [
        {
          "output_type": "display_data",
          "data": {
            "text/plain": [
              "<IPython.core.display.Javascript object>"
            ],
            "application/javascript": [
              "\n",
              "  for (rule of document.styleSheets[0].cssRules){\n",
              "    if (rule.selectorText=='body') {\n",
              "      rule.style.fontSize = '18px'\n",
              "      break\n",
              "    }\n",
              "  }\n",
              "  "
            ]
          },
          "metadata": {}
        },
        {
          "output_type": "display_data",
          "data": {
            "text/plain": [
              "<IPython.core.display.Math object>"
            ],
            "text/latex": "$\\displaystyle z_1 z_2 = (3+4j) (2+3j) = (6-12) + j(8+9) = (-6+17j)$"
          },
          "metadata": {}
        },
        {
          "output_type": "stream",
          "name": "stdout",
          "text": [
            "\n",
            "\n"
          ]
        },
        {
          "output_type": "display_data",
          "data": {
            "text/plain": [
              "<IPython.core.display.Math object>"
            ],
            "text/latex": "$\\displaystyle \\frac{z_1}{z_2} = \\frac{(3+4j)}{(2+3j)} = \\frac{(3+4j)(2-3j)}{(2+3j)(2-3j)} = \\frac{(18-1j)}{2^2 + 3^2} = \\frac{(18-1j)}{13} = \\frac{18}{13} - j\\frac{1}{13} = (1.38-0.08j)$"
          },
          "metadata": {}
        }
      ]
    },
    {
      "cell_type": "code",
      "source": [
        "def cart2pol(z, deg=False):\n",
        "  mag = np.abs(z)\n",
        "  angle = np.angle(z, deg=deg)\n",
        "  return (mag, angle)\n",
        "z1mag, z1angle  = cart2pol(z1, True)\n",
        "z2mag, z2angle = cart2pol(z2, True)\n",
        "\n",
        "increase_font()\n",
        "display(Math('z_1z_2 = (%se^{j%s\\degree})(\\sqrt{13}e^{j%s\\degree}) = 5\\sqrt{13}e^{j%s\\degree}' %(z1mag, round(z1angle, 2), round(z2angle, 2), round(z1angle+z2angle,2))))\n",
        "print('\\n')\n",
        "display(Math('\\\\frac{z_1}{z_2} = \\\\frac{%se^{j%s}}{\\sqrt{13}e^{j%s}} = \\\\frac{%s}{\\sqrt{13}} e^{j%s\\degree - %s\\degree} = \\\\frac{%s}{\\sqrt{13}} e^{j%s\\degree}'\n",
        "                                    %(z1mag, round(z1angle, 2), round(z2angle, 2), z1mag, round(z1angle, 2), round(z2angle, 2), z1mag, round(z1angle-z2angle,2))))"
      ],
      "metadata": {
        "colab": {
          "base_uri": "https://localhost:8080/",
          "height": 143
        },
        "id": "zrT0Ce-MSSIh",
        "outputId": "3601e836-303c-4e9e-e95f-bc939198a0b3"
      },
      "execution_count": 12,
      "outputs": [
        {
          "output_type": "display_data",
          "data": {
            "text/plain": [
              "<IPython.core.display.Javascript object>"
            ],
            "application/javascript": [
              "\n",
              "  for (rule of document.styleSheets[0].cssRules){\n",
              "    if (rule.selectorText=='body') {\n",
              "      rule.style.fontSize = '18px'\n",
              "      break\n",
              "    }\n",
              "  }\n",
              "  "
            ]
          },
          "metadata": {}
        },
        {
          "output_type": "display_data",
          "data": {
            "text/plain": [
              "<IPython.core.display.Math object>"
            ],
            "text/latex": "$\\displaystyle z_1z_2 = (5.0e^{j53.13\\degree})(\\sqrt{13}e^{j56.31\\degree}) = 5\\sqrt{13}e^{j109.44\\degree}$"
          },
          "metadata": {}
        },
        {
          "output_type": "stream",
          "name": "stdout",
          "text": [
            "\n",
            "\n"
          ]
        },
        {
          "output_type": "display_data",
          "data": {
            "text/plain": [
              "<IPython.core.display.Math object>"
            ],
            "text/latex": "$\\displaystyle \\frac{z_1}{z_2} = \\frac{5.0e^{j53.13}}{\\sqrt{13}e^{j56.31}} = \\frac{5.0}{\\sqrt{13}} e^{j53.13\\degree - 56.31\\degree} = \\frac{5.0}{\\sqrt{13}} e^{j-3.18\\degree}$"
          },
          "metadata": {}
        }
      ]
    },
    {
      "cell_type": "markdown",
      "source": [
        "## Exemplo B.4\n",
        "\n",
        "Para $z_1 = 2e^{j\\pi/4}$ e $z_2 = 8e^{j\\pi/3}$ determine:\n",
        "\n",
        "(a) $2z_1 - z_2$\n",
        "\n",
        "(b) $1/z_1$\n",
        "\n",
        "(c) $\\frac{z_1}{z^2_2}$\n",
        "\n",
        "(d) $ \\sqrt[3]{z_2}$"
      ],
      "metadata": {
        "id": "j4LTnE7w9NxO"
      }
    },
    {
      "cell_type": "code",
      "source": [
        "def pol2cart(rho, phi):\n",
        "    x = rho * sym.cos(phi)\n",
        "    y = rho * sym.sin(phi)\n",
        "    return (x,y)\n",
        "\n",
        "z1 = pol2cart(2, sym.pi/4)\n",
        "z2 = pol2cart(8, sym.pi/3)\n",
        "\n",
        "display(Math('z_1 = %s + j%s' %(sym.latex(z1[0]), sym.latex(z1[1]))))\n",
        "display(Math('z_2 = %s + j%s' %(sym.latex(z2[0]), sym.latex(z2[1]))))"
      ],
      "metadata": {
        "colab": {
          "base_uri": "https://localhost:8080/",
          "height": 62
        },
        "id": "CYmyB7od-bPJ",
        "outputId": "24d68883-2df0-4e0c-9bcf-1849850c35c3"
      },
      "execution_count": null,
      "outputs": [
        {
          "output_type": "display_data",
          "data": {
            "text/plain": [
              "<IPython.core.display.Math object>"
            ],
            "text/latex": "$\\displaystyle z_1 = \\sqrt{2} + j\\sqrt{2}$"
          },
          "metadata": {}
        },
        {
          "output_type": "display_data",
          "data": {
            "text/plain": [
              "<IPython.core.display.Math object>"
            ],
            "text/latex": "$\\displaystyle z_2 = 4 + j4 \\sqrt{3}$"
          },
          "metadata": {}
        }
      ]
    },
    {
      "cell_type": "code",
      "source": [
        "display(Math('(a) 2z_1 - z_2 = %s = %s' %(sym.latex((2 * z1[0] + complex(0,1) * z1[1]) - z2[0] + complex(0,1) * z2[1]),sym.latex(2 * complex(z1[0], z1[1]) - complex(z2[0], z2[1])))))"
      ],
      "metadata": {
        "colab": {
          "base_uri": "https://localhost:8080/",
          "height": 39
        },
        "id": "0He_b4fGuXeL",
        "outputId": "c51cc0ed-b2db-407b-b35d-c76fe4483c22"
      },
      "execution_count": null,
      "outputs": [
        {
          "output_type": "display_data",
          "data": {
            "text/plain": [
              "<IPython.core.display.Math object>"
            ],
            "text/latex": "$\\displaystyle (a) 2z_1 - z_2 = -4 + 2 \\sqrt{2} + 1.0 \\sqrt{2} i + 4.0 \\sqrt{3} i = \\mathtt{\\text{(-1.1715728752538097-4.099776105529319j)}}$"
          },
          "metadata": {}
        }
      ]
    },
    {
      "cell_type": "code",
      "source": [
        "display(Math('(b) \\\\ \\\\frac{1}{z_1} = %s = %s' %(sym.latex(1 / (2*sym.exp(complex(0,1) * sym.pi / 4))),1 / complex(z1[0], z1[1]))))"
      ],
      "metadata": {
        "id": "wOeoZzQ0_V3D",
        "colab": {
          "base_uri": "https://localhost:8080/",
          "height": 57
        },
        "outputId": "690a2db2-dc43-459d-d68b-8cf1c5c49411"
      },
      "execution_count": null,
      "outputs": [
        {
          "output_type": "display_data",
          "data": {
            "text/plain": [
              "<IPython.core.display.Math object>"
            ],
            "text/latex": "$\\displaystyle (b) \\ \\frac{1}{z_1} = \\frac{e^{- 0.25 i \\pi}}{2} = (0.35355339059327373-0.35355339059327373j)$"
          },
          "metadata": {}
        }
      ]
    },
    {
      "cell_type": "code",
      "source": [
        "display(\n",
        "    Math(\n",
        "        '(c) \\\\ \\\\frac{z_1}{z^2_2} = %s = %s'\n",
        "        %(\n",
        "          sym.latex(2*sym.exp(complex(0,1) * sym.pi/ 4)/(8 * sym.exp(complex(0,1) * sym.pi/3))**2),\n",
        "          sym.latex(complex(z1[0], z1[1])/complex(z2[0], z2[1]))\n",
        "          )\n",
        "        )\n",
        "    )"
      ],
      "metadata": {
        "colab": {
          "base_uri": "https://localhost:8080/",
          "height": 59
        },
        "id": "PuTGG0ZuydSa",
        "outputId": "cf540cef-4302-4222-ddfc-8e80cb088ffe"
      },
      "execution_count": null,
      "outputs": [
        {
          "output_type": "display_data",
          "data": {
            "text/plain": [
              "<IPython.core.display.Math object>"
            ],
            "text/latex": "$\\displaystyle (c) \\ \\frac{z_1}{z^2_2} = \\frac{e^{- 0.416666666666667 i \\pi}}{32} = \\mathtt{\\text{(0.2414814565722671-0.0647047612756302j)}}$"
          },
          "metadata": {}
        }
      ]
    },
    {
      "cell_type": "code",
      "source": [
        "result = complex(z2[0], z2[1])**(1/3)\n",
        "result_pol = cart2pol(result.real, result.imag)\n",
        "display(\n",
        "    Math(\n",
        "        '(c) \\\\ \\\\sqrt[3]{z_2} = %s = %s'\n",
        "        %(\n",
        "            sym.latex(sym.cbrt(complex(z2[0], z2[1]))),\n",
        "            sym.latex(result_pol[0] * sym.exp(result_pol[1] * complex(0,1)))\n",
        "        )\n",
        "    )\n",
        ")"
      ],
      "metadata": {
        "colab": {
          "base_uri": "https://localhost:8080/",
          "height": 39
        },
        "id": "HaC8RDUr5MQX",
        "outputId": "8c87da7f-0563-4dfd-8f55-3ed57882d35a"
      },
      "execution_count": null,
      "outputs": [
        {
          "output_type": "display_data",
          "data": {
            "text/plain": [
              "<IPython.core.display.Math object>"
            ],
            "text/latex": "$\\displaystyle (c) \\ \\sqrt[3]{z_2} = \\sqrt[3]{4.0 + 6.92820323027551 i} = 2.0 e^{0.349065850398866 i}$"
          },
          "metadata": {}
        }
      ]
    },
    {
      "cell_type": "markdown",
      "source": [
        "## Exemplo de Computador CB.3\n",
        "\n",
        "Determine $z_1z_2$ e $z_1/z_2$ se:\n",
        "> $z_1 = 3 + j4 \\\\ z_2 = 2 + j3$"
      ],
      "metadata": {
        "id": "ruA8FKB-FMM_"
      }
    },
    {
      "cell_type": "code",
      "source": [
        "z1 = 3 + 4j\n",
        "z2 = 2 + 3j"
      ],
      "metadata": {
        "id": "C2AL7ChGHfl0"
      },
      "execution_count": null,
      "outputs": []
    },
    {
      "cell_type": "code",
      "source": [
        "display(Math('z_1z_2 = %s' %(z1*z2)))"
      ],
      "metadata": {
        "colab": {
          "base_uri": "https://localhost:8080/",
          "height": 38
        },
        "id": "-h06iF9CHmxw",
        "outputId": "9f560010-0e06-41f9-e0f2-367d14f2e7c6"
      },
      "execution_count": null,
      "outputs": [
        {
          "output_type": "display_data",
          "data": {
            "text/plain": [
              "<IPython.core.display.Math object>"
            ],
            "text/latex": "$\\displaystyle z_1z_2 = (-6+17j)$"
          },
          "metadata": {}
        }
      ]
    },
    {
      "cell_type": "code",
      "source": [
        "display(Math('\\\\frac{z_1}{z_2} = %s = %s' %(sym.latex(sym.sympify(z1)/sym.sympify(z2)),z1/z2)))"
      ],
      "metadata": {
        "colab": {
          "base_uri": "https://localhost:8080/",
          "height": 50
        },
        "id": "ER7XlEiUH6Y-",
        "outputId": "0da38cfe-8db1-4e6e-e0ad-ebca6ddd69b6"
      },
      "execution_count": null,
      "outputs": [
        {
          "output_type": "display_data",
          "data": {
            "text/plain": [
              "<IPython.core.display.Math object>"
            ],
            "text/latex": "$\\displaystyle \\frac{z_1}{z_2} = 0.0769230769230769 \\cdot \\left(2.0 - 3.0 i\\right) \\left(3.0 + 4.0 i\\right) = (1.3846153846153848-0.07692307692307697j)$"
          },
          "metadata": {}
        }
      ]
    },
    {
      "cell_type": "markdown",
      "source": [
        "## Exemplo B.5 (TODO Corrigir)\n",
        "\n",
        "Considere $X(𝜔)$ uma função complexa de uma variável real $𝜔$ :\n",
        "\n",
        "> $X(𝜔) = \\frac{2 + j\\omega}{3 + j4\\omega}$\n",
        "\n",
        "(a) Determine $X(ω)$ na forma Cartesiana e determine sua parte real e imaginária\n",
        "\n",
        "(b) Determine $X(ω)$ na forma Polar e determine seu módulo $|X(ω)|$ e seu ângulo $X(ω)$.\n",
        "\n"
      ],
      "metadata": {
        "id": "QxiEjbK4IwzH"
      }
    },
    {
      "cell_type": "code",
      "source": [
        "w = sym.Symbol('w', real=True)\n",
        "z1 = 2 + (w * 1j)\n",
        "z2 = 3 + (w * 4j)\n",
        "display(Math('X(\\omega) = \\\\frac{%s}{%s}' %(sym.latex(z1), sym.latex(z2))))"
      ],
      "metadata": {
        "colab": {
          "base_uri": "https://localhost:8080/",
          "height": 53
        },
        "id": "UZZR4ML4J6dp",
        "outputId": "d89ebed2-9b1b-4406-d135-700c1c4b48a5"
      },
      "execution_count": null,
      "outputs": [
        {
          "output_type": "display_data",
          "data": {
            "text/plain": [
              "<IPython.core.display.Math object>"
            ],
            "text/latex": "$\\displaystyle X(\\omega) = \\frac{1.0 i w + 2}{4.0 i w + 3}$"
          },
          "metadata": {}
        }
      ]
    },
    {
      "cell_type": "code",
      "source": [
        "display(Math('\\\\frac{%s}{%s}' %(sym.latex(z1 * sym.conjugate(z2)), sym.latex(z2 * sym.conjugate(z2)))))"
      ],
      "metadata": {
        "colab": {
          "base_uri": "https://localhost:8080/",
          "height": 57
        },
        "id": "z2KDR1_jPaxx",
        "outputId": "b2d847fb-425c-4f34-cf25-f4a7591aa12f"
      },
      "execution_count": null,
      "outputs": [
        {
          "output_type": "display_data",
          "data": {
            "text/plain": [
              "<IPython.core.display.Math object>"
            ],
            "text/latex": "$\\displaystyle \\frac{\\left(- 4.0 i w + 3\\right) \\left(1.0 i w + 2\\right)}{\\left(- 4.0 i w + 3\\right) \\left(4.0 i w + 3\\right)}$"
          },
          "metadata": {}
        }
      ]
    },
    {
      "cell_type": "code",
      "source": [
        "sym.simplify(z2 * sym.conjugate(z2))"
      ],
      "metadata": {
        "colab": {
          "base_uri": "https://localhost:8080/",
          "height": 38
        },
        "id": "6Mtpp5PsN12B",
        "outputId": "fc6fc917-0576-46cf-a83e-e74d3b914bf6"
      },
      "execution_count": null,
      "outputs": [
        {
          "output_type": "execute_result",
          "data": {
            "text/plain": [
              "16.0*w**2 + 9.0"
            ],
            "text/latex": "$\\displaystyle 16.0 w^{2} + 9.0$"
          },
          "metadata": {},
          "execution_count": 52
        }
      ]
    },
    {
      "cell_type": "code",
      "source": [
        "sym.simplify(z1 * sym.conjugate(z2)) / sym.simplify(z2 * sym.conjugate(z2))"
      ],
      "metadata": {
        "id": "wEG_XSIyV2tP",
        "outputId": "3928342d-465c-4ef9-b719-2626fa6fe7f7",
        "colab": {
          "base_uri": "https://localhost:8080/",
          "height": 55
        }
      },
      "execution_count": null,
      "outputs": [
        {
          "output_type": "execute_result",
          "data": {
            "text/plain": [
              "(4.0*w**2 - 5.0*I*w + 6.0)/(16.0*w**2 + 9.0)"
            ],
            "text/latex": "$\\displaystyle \\frac{4.0 w^{2} - 5.0 i w + 6.0}{16.0 w^{2} + 9.0}$"
          },
          "metadata": {},
          "execution_count": 58
        }
      ]
    },
    {
      "cell_type": "code",
      "source": [
        "sym.expand(sym.simplify(z1 * sym.conjugate(z2)) / sym.simplify(z2 * sym.conjugate(z2)))"
      ],
      "metadata": {
        "colab": {
          "base_uri": "https://localhost:8080/",
          "height": 55
        },
        "id": "FVsP30KNQuKV",
        "outputId": "fd09ae02-a1af-4c03-a1b1-4a36955b5037"
      },
      "execution_count": null,
      "outputs": [
        {
          "output_type": "execute_result",
          "data": {
            "text/plain": [
              "4.0*w**2/(16.0*w**2 + 9.0) - 5.0*I*w/(16.0*w**2 + 9.0) + 6.0/(16.0*w**2 + 9.0)"
            ],
            "text/latex": "$\\displaystyle \\frac{4.0 w^{2}}{16.0 w^{2} + 9.0} - \\frac{5.0 i w}{16.0 w^{2} + 9.0} + \\frac{6.0}{16.0 w^{2} + 9.0}$"
          },
          "metadata": {},
          "execution_count": 57
        }
      ]
    },
    {
      "cell_type": "markdown",
      "source": [
        "## Exemplo B.6\n",
        "\n",
        "Nos casos a seguir, exprese $x(t)$ como uma única senoide:\n",
        "\n",
        "$(a) \\ x(t) = \\cos{ω_ot} - - \\sqrt{3}\\sin{ω_ot} \\\\\n",
        "(b) \\ x(t) = -3 \\cos{ω_ot} + 4 \\sin{ω_ot}$"
      ],
      "metadata": {
        "id": "T7mr2NKIRvqq"
      }
    },
    {
      "cell_type": "markdown",
      "source": [
        "Utilize as equações:\n",
        "\n",
        "$(B.23a) \\ C \\cos(ω_ot + θ) = C \\cos θ \\cos{ω_ot} - C \\sin θ \\sin{ω_ot} = a \\cos{ω_ot} + b \\sin{ω_ot} $\n",
        "\n",
        "onde: $a = C \\cos{θ}$ e $b = -C \\sin{θ}$\n",
        "\n",
        "$(B.23b) \\ C = \\sqrt{a^2 + b^2} $\n",
        "\n",
        "$(B.23c) \\ θ = \\tan^{-1}{(\\frac{-b}{a})} $"
      ],
      "metadata": {
        "id": "Yv7HtSRAWHE7"
      }
    },
    {
      "cell_type": "code",
      "source": [
        "def graph_reta(ax, real, imag, xlim=[-2,2], ylim=[-2,2]):\n",
        "  ax.arrow(0, 0, 0, imag, head_width = 0.1,  head_length = 0.1, linewidth=3)\n",
        "  ax.arrow(0, 0, real, 0, head_width = 0.1,  head_length = 0.1, linewidth=3)\n",
        "  ax.arrow(0, 0, real, imag, head_width = 0.1,  head_length = 0.1, linewidth=3)\n",
        "  AngleAnnotation((0,0), [float(real), 0], [float(real), float(imag)], ax=ax, size=75, text=rf\"${float(theta * 180/sym.pi)}°$\")\n",
        "  ax.axis('square')\n",
        "  plt.xlabel('Real')\n",
        "  plt.ylabel('Imag')\n",
        "  plt.xlim(xlim)\n",
        "  plt.ylim(ylim)\n",
        "  ax.grid()\n",
        "  axis = plt.gca()"
      ],
      "metadata": {
        "id": "uxG9Nm0JrpBR"
      },
      "execution_count": null,
      "outputs": []
    },
    {
      "cell_type": "markdown",
      "source": [
        "### (a)"
      ],
      "metadata": {
        "id": "Uva9JYSricrz"
      }
    },
    {
      "cell_type": "code",
      "source": [
        "real = 1\n",
        "imag = sym.sqrt(3)\n",
        "\n",
        "C = sym.sqrt(real ** 2 + imag ** 2)\n",
        "display(Math(\"C = \\sqrt{%s^2 + (%s)^2} = %s\" %(real, sym.latex(imag), C)))\n",
        "\n",
        "print(\"\\n\")\n",
        "\n",
        "theta = sym.atan(imag/real)\n",
        "display(Math(\" \\\\theta =\\\\tan^{-1}{(\\\\frac{%s}{%s})} = %s = %s°\" %(sym.latex(imag), real, sym.latex(theta), theta * 180/sym.pi)))"
      ],
      "metadata": {
        "colab": {
          "base_uri": "https://localhost:8080/",
          "height": 122
        },
        "id": "JPx_J9ARYMNN",
        "outputId": "79a231c1-b40b-449a-cb25-8895f5e4e026"
      },
      "execution_count": null,
      "outputs": [
        {
          "output_type": "display_data",
          "data": {
            "text/plain": [
              "<IPython.core.display.Math object>"
            ],
            "text/latex": "$\\displaystyle C = \\sqrt{1^2 + (\\sqrt{3})^2} = 2$"
          },
          "metadata": {}
        },
        {
          "output_type": "stream",
          "name": "stdout",
          "text": [
            "\n",
            "\n"
          ]
        },
        {
          "output_type": "display_data",
          "data": {
            "text/plain": [
              "<IPython.core.display.Math object>"
            ],
            "text/latex": "$\\displaystyle  \\theta =\\tan^{-1}{(\\frac{\\sqrt{3}}{1})} = \\frac{\\pi}{3} = 60°$"
          },
          "metadata": {}
        }
      ]
    },
    {
      "cell_type": "code",
      "source": [
        "fig, ax = plt.subplots()\n",
        "graph_reta(ax, real, float(imag), xlim=[-0.5, 2], ylim=[-0.5, 3])"
      ],
      "metadata": {
        "colab": {
          "base_uri": "https://localhost:8080/",
          "height": 455
        },
        "id": "2OIrj_7ihBHi",
        "outputId": "dc9a7ebc-3c3f-44fa-b235-406d83021383"
      },
      "execution_count": null,
      "outputs": [
        {
          "output_type": "display_data",
          "data": {
            "text/plain": [
              "<Figure size 640x480 with 1 Axes>"
            ],
            "image/png": "[encoded data removed]"
          },
          "metadata": {}
        }
      ]
    },
    {
      "cell_type": "markdown",
      "source": [
        "### (b)"
      ],
      "metadata": {
        "id": "PN7Zl-1Hr1NQ"
      }
    },
    {
      "cell_type": "code",
      "source": [
        "real = -3\n",
        "imag = -4\n",
        "\n",
        "C = sym.sqrt(real ** 2 + imag ** 2)\n",
        "display(Math(\"C = \\sqrt{%s^2 + (%s)^2} = %s\" %(real, imag, C)))\n",
        "\n",
        "print(\"\\n\")\n",
        "\n",
        "theta = sym.atan(imag/real)\n",
        "display(Math(\" \\\\theta =\\\\tan^{-1}{(\\\\frac{-%s}{%s})} = %s = %s°\" %(imag, real, sym.latex(theta), float(theta * 180/sym.pi))))"
      ],
      "metadata": {
        "colab": {
          "base_uri": "https://localhost:8080/",
          "height": 111
        },
        "id": "OhvOK1u4r3QF",
        "outputId": "cb4bbc35-1332-4a9e-e2f6-ddb56569d092"
      },
      "execution_count": null,
      "outputs": [
        {
          "output_type": "display_data",
          "data": {
            "text/plain": [
              "<IPython.core.display.Math object>"
            ],
            "text/latex": "$\\displaystyle C = \\sqrt{-3^2 + (-4)^2} = 5$"
          },
          "metadata": {}
        },
        {
          "output_type": "stream",
          "name": "stdout",
          "text": [
            "\n",
            "\n"
          ]
        },
        {
          "output_type": "display_data",
          "data": {
            "text/plain": [
              "<IPython.core.display.Math object>"
            ],
            "text/latex": "$\\displaystyle  \\theta =\\tan^{-1}{(\\frac{--4}{-3})} = 0.927295218001612 = 53.13010235415598°$"
          },
          "metadata": {}
        }
      ]
    },
    {
      "cell_type": "code",
      "source": [
        "fig, ax = plt.subplots()\n",
        "graph_reta(ax, float(real), float(imag), xlim=[-5, 0.5], ylim=[-5, 0.5])"
      ],
      "metadata": {
        "colab": {
          "base_uri": "https://localhost:8080/",
          "height": 449
        },
        "id": "6dAJz00Lvj3K",
        "outputId": "5713e67c-2beb-42bf-8314-e3a02ba5f67e"
      },
      "execution_count": null,
      "outputs": [
        {
          "output_type": "display_data",
          "data": {
            "text/plain": [
              "<Figure size 640x480 with 1 Axes>"
            ],
            "image/png": "[encoded data removed]"
          },
          "metadata": {}
        }
      ]
    },
    {
      "cell_type": "markdown",
      "source": [
        "## Exemplo de Computador CB.4\n",
        "\n",
        "Expresse $f(t) = -3\\cos(ω_ot) + 4\\sin(ω_ot)$ como uma única senoide."
      ],
      "metadata": {
        "id": "ePBpg6wz2Pna"
      }
    },
    {
      "cell_type": "code",
      "source": [
        "real = -3\n",
        "imag = 4\n",
        "\n",
        "C = sym.sqrt(real ** 2 + imag ** 2)\n",
        "display(Math(\"C = \\sqrt{%s^2 + (%s)^2} = %s\" %(real, sym.latex(imag), C)))\n",
        "\n",
        "print(\"\\n\")\n",
        "\n",
        "theta = sym.atan(imag/real)\n",
        "display(Math(\" \\\\theta =\\\\tan^{-1}{(\\\\frac{%s}{%s})} = %s = %s°\" %(sym.latex(imag), real, sym.latex(theta), theta * 180/sym.pi)))"
      ],
      "metadata": {
        "colab": {
          "base_uri": "https://localhost:8080/",
          "height": 111
        },
        "id": "2HuiIrpE20yt",
        "outputId": "0ac3772e-e8a7-4dd9-df2c-90626fe61d76"
      },
      "execution_count": null,
      "outputs": [
        {
          "output_type": "display_data",
          "data": {
            "text/plain": [
              "<IPython.core.display.Math object>"
            ],
            "text/latex": "$\\displaystyle C = \\sqrt{-3^2 + (4)^2} = 5$"
          },
          "metadata": {}
        },
        {
          "output_type": "stream",
          "name": "stdout",
          "text": [
            "\n",
            "\n"
          ]
        },
        {
          "output_type": "display_data",
          "data": {
            "text/plain": [
              "<IPython.core.display.Math object>"
            ],
            "text/latex": "$\\displaystyle  \\theta =\\tan^{-1}{(\\frac{4}{-3})} = -0.927295218001612 = -166.91313924029/pi°$"
          },
          "metadata": {}
        }
      ]
    },
    {
      "cell_type": "markdown",
      "source": [
        "## Exemplo B.7\n",
        "\n",
        "Utilize a Regra de Cramer para resolver as seguintes equações lineares simultâneas com três incógnitas.\n",
        "\n",
        "$2x_1 + x_2 + x_3 = 3\\\\\n",
        "x_1 + 3x_2 - x_3 = 7\\\\\n",
        "x_1 + x_2 + x_3 = 1$"
      ],
      "metadata": {
        "id": "OWM9IPCDEdho"
      }
    },
    {
      "cell_type": "code",
      "source": [
        "def simple_cramer(mat, constant):\n",
        "    D = np.linalg.det(mat)\n",
        "    mat1 = np.array([constant, mat[:, 1], mat[:, 2]])\n",
        "    mat2 = np.array([mat[:, 0], constant, mat[:, 2]])\n",
        "    mat3 = np.array([mat[:, 0], mat[:, 1], constant])\n",
        "    Dx = np.linalg.det([mat1, mat2, mat3])\n",
        "    X = Dx/D\n",
        "    return X"
      ],
      "metadata": {
        "id": "wh_MBXExFU3z"
      },
      "execution_count": null,
      "outputs": []
    },
    {
      "cell_type": "code",
      "source": [
        "# https://www.computersciencemaster.com.br/como-resolver-um-sistema-de-equacoes-usando-python/\n",
        "# https://stackoverflow.com/questions/70323836/solving-system-of-linear-equation-using-cramers-method-in-python\n",
        "def complex_cramer(a, b):\n",
        "  mask = np.broadcast_to(np.diag([1,1,1]), [3, 3, 3]).swapaxes(0, 1)\n",
        "  Ms = np.where(mask, np.repeat(b, 3).reshape(3, 3), a)\n",
        "  return np.linalg.det(Ms) / np.linalg.det(a)"
      ],
      "metadata": {
        "id": "J8MoO2imFdco"
      },
      "execution_count": null,
      "outputs": []
    },
    {
      "cell_type": "code",
      "source": [
        "A = np.array([[2, 1, 1],\n",
        "              [1, 3, -1],\n",
        "              [1, 1, 1]])\n",
        "\n",
        "B = np.array([3, 7, 1])\n",
        "\n",
        "solution = simple_cramer(A, B)\n",
        "display(Math(\"x_1 = %.1f \\\\ x_2 = %.1f \\\\ x_3 = %.1f\" %(solution[0], solution[1], solution[2])))"
      ],
      "metadata": {
        "colab": {
          "base_uri": "https://localhost:8080/",
          "height": 38
        },
        "id": "jjE0eaU2FtRx",
        "outputId": "9b7d7a27-b82c-4447-b898-99c94a8e9023"
      },
      "execution_count": null,
      "outputs": [
        {
          "output_type": "display_data",
          "data": {
            "text/plain": [
              "<IPython.core.display.Math object>"
            ],
            "text/latex": "$\\displaystyle x_1 = 2.0 \\ x_2 = 1.0 \\ x_3 = -2.0$"
          },
          "metadata": {}
        }
      ]
    },
    {
      "cell_type": "markdown",
      "source": [
        "## Exemplo B.8\n",
        "\n",
        "Expanda a seguinte função racional $F(x)$ em frações parciais:\n",
        "\n",
        "$F(x) = \\frac{x^3 + 3x^2 + 4x + 6}{(x + 1)(x + 2)(x + 3)^2}$"
      ],
      "metadata": {
        "id": "UdZQGB60KuEY"
      }
    },
    {
      "cell_type": "code",
      "source": [
        "x = sym.Symbol(\"x\")\n",
        "\n",
        "numerador = x ** 3 + 3 * x ** 2 + 4 * x + 6\n",
        "denominador = (x + 1) * (x + 2) * (x + 3) ** 2\n",
        "\n",
        "G = numerador / denominador\n",
        "sym.apart(G)"
      ],
      "metadata": {
        "colab": {
          "base_uri": "https://localhost:8080/",
          "height": 58
        },
        "id": "drzpa86qLLZN",
        "outputId": "16adfbc9-15b9-4032-a890-4bc3846846f4"
      },
      "execution_count": null,
      "outputs": [
        {
          "output_type": "execute_result",
          "data": {
            "text/plain": [
              "2/(x + 3) - 3/(x + 3)**2 - 2/(x + 2) + 1/(x + 1)"
            ],
            "text/latex": "$\\displaystyle \\frac{2}{x + 3} - \\frac{3}{\\left(x + 3\\right)^{2}} - \\frac{2}{x + 2} + \\frac{1}{x + 1}$"
          },
          "metadata": {},
          "execution_count": 18
        }
      ]
    },
    {
      "cell_type": "markdown",
      "source": [
        "## Exemplo B.9\n",
        "\n",
        "Expanda a seguinte função racional $F(x)$ em frações parciais:\n",
        "\n",
        "$F(x) = \\frac{2x^2 + 9x - 11}{(x + 1)(x - 2)(x + 3)}$"
      ],
      "metadata": {
        "id": "9-aDlwGpO9X9"
      }
    },
    {
      "cell_type": "code",
      "source": [
        "x = sym.Symbol(\"x\")\n",
        "\n",
        "numerador = 2 * x ** 2 + 9 * x - 11\n",
        "denominador = (x + 1) * (x - 2) * (x + 3)\n",
        "\n",
        "G = numerador / denominador\n",
        "sym.apart(G)"
      ],
      "metadata": {
        "colab": {
          "base_uri": "https://localhost:8080/",
          "height": 52
        },
        "id": "2trLZKExPYcM",
        "outputId": "142f136d-2b5c-470d-baba-daa183c2c921"
      },
      "execution_count": null,
      "outputs": [
        {
          "output_type": "execute_result",
          "data": {
            "text/plain": [
              "-2/(x + 3) + 3/(x + 1) + 1/(x - 2)"
            ],
            "text/latex": "$\\displaystyle - \\frac{2}{x + 3} + \\frac{3}{x + 1} + \\frac{1}{x - 2}$"
          },
          "metadata": {},
          "execution_count": 20
        }
      ]
    },
    {
      "cell_type": "markdown",
      "source": [
        "## Exemplo B.10\n",
        "\n",
        "Expanda $F(x)$ em frações parciais se\n",
        "\n",
        "\n",
        "<center> $\\\\F(x) = \\frac{4x^3 + 16x^2 + 23x + 13}{(x + 1)^3(x + 2)}$</center>\n",
        "\n",
        "\n"
      ],
      "metadata": {
        "id": "_-iepkr5P3tM"
      }
    },
    {
      "cell_type": "code",
      "source": [
        "x = sym.Symbol(\"x\")\n",
        "\n",
        "numerador = 4 * x ** 3 + 16 * x ** 2 + 23 * x + 13\n",
        "denominador = (x + 1) ** 3 * (x + 2)\n",
        "\n",
        "G = numerador / denominador\n",
        "sym.apart(G)"
      ],
      "metadata": {
        "colab": {
          "base_uri": "https://localhost:8080/",
          "height": 58
        },
        "id": "173UrTdWPpfp",
        "outputId": "9f06427f-bdf6-47e2-f130-318c6b04dee1"
      },
      "execution_count": null,
      "outputs": [
        {
          "output_type": "execute_result",
          "data": {
            "text/plain": [
              "1/(x + 2) + 3/(x + 1) + (x + 1)**(-2) + 2/(x + 1)**3"
            ],
            "text/latex": "$\\displaystyle \\frac{1}{x + 2} + \\frac{3}{x + 1} + \\frac{1}{\\left(x + 1\\right)^{2}} + \\frac{2}{\\left(x + 1\\right)^{3}}$"
          },
          "metadata": {},
          "execution_count": 21
        }
      ]
    },
    {
      "cell_type": "markdown",
      "source": [
        "## Exemplo B.11\n",
        "\n",
        "Expanda $F(x)$ em frações parciais se\n",
        "\n",
        "\n",
        "<center> $\\\\F(x) = \\frac{3x^2 + 9x -20}{x^2 + x -6} = \\frac{3x^2 + 9x -20}{(x-2)(x+3)}$</center>\n",
        "\n",
        "\n"
      ],
      "metadata": {
        "id": "e12Mu5ynaYdt"
      }
    },
    {
      "cell_type": "code",
      "source": [
        "x = sym.Symbol(\"x\")\n",
        "\n",
        "numerador = 3*x**2 + 9*x -20\n",
        "denominador = (x-2)*(x+3)\n",
        "\n",
        "G = numerador / denominador\n",
        "sym.apart(G)"
      ],
      "metadata": {
        "colab": {
          "base_uri": "https://localhost:8080/",
          "height": 52
        },
        "id": "7Nyd_FinazFJ",
        "outputId": "620e442f-5455-412f-a74c-0b9682c0c3ed"
      },
      "execution_count": null,
      "outputs": [
        {
          "output_type": "execute_result",
          "data": {
            "text/plain": [
              "3 + 4/(x + 3) + 2/(x - 2)"
            ],
            "text/latex": "$\\displaystyle 3 + \\frac{4}{x + 3} + \\frac{2}{x - 2}$"
          },
          "metadata": {},
          "execution_count": 22
        }
      ]
    },
    {
      "cell_type": "markdown",
      "source": [
        "## Exemplo B.12\n",
        "\n",
        "Vamos determinar $A^{-1}$ se\n",
        "\n",
        "<center> $A = \\begin{bmatrix}\n",
        "2 & 1 & 1 \\\\\n",
        "1 & 2 & 3 \\\\\n",
        "3 & 2 & 1 \\\\\n",
        "\\end{bmatrix}$</center>"
      ],
      "metadata": {
        "id": "fHqNiaLFqkC8"
      }
    },
    {
      "cell_type": "code",
      "source": [
        "# https://stackoverflow.com/questions/17129290/numpy-2d-and-1d-array-to-latex-bmatrix\n",
        "def bmatrix(a):\n",
        "    \"\"\"Returns a LaTeX bmatrix\n",
        "\n",
        "    :a: numpy array\n",
        "    :returns: LaTeX bmatrix as a string\n",
        "    \"\"\"\n",
        "    if len(a.shape) > 2:\n",
        "        raise ValueError('bmatrix can at most display two dimensions')\n",
        "    lines = str(a).replace('[', '').replace(']', '').splitlines()\n",
        "    rv = [r'\\begin{bmatrix}']\n",
        "    rv += ['  ' + ' & '.join(l.split()) + r'\\\\' for l in lines]\n",
        "    rv +=  [r'\\end{bmatrix}']\n",
        "    return '\\n'.join(rv)"
      ],
      "metadata": {
        "id": "Topmk6aYsQHP"
      },
      "execution_count": null,
      "outputs": []
    },
    {
      "cell_type": "code",
      "source": [
        "A = np.array([\n",
        "    [2,1,1],\n",
        "    [1,2,3],\n",
        "    [3,2,1]\n",
        "])\n",
        "\n",
        "display(Math(bmatrix(np.linalg.inv(A))))\n"
      ],
      "metadata": {
        "colab": {
          "base_uri": "https://localhost:8080/",
          "height": 78
        },
        "id": "1CWvirHqrgcG",
        "outputId": "b1a11a13-b933-46d9-e562-8caba36c74ce"
      },
      "execution_count": null,
      "outputs": [
        {
          "output_type": "display_data",
          "data": {
            "text/plain": [
              "<IPython.core.display.Math object>"
            ],
            "text/latex": "$\\displaystyle \\begin{bmatrix}\n  1. & -0.25 & -0.25\\\\\n  -2. & 0.25 & 1.25\\\\\n  1. & 0.25 & -0.75\\\\\n\\end{bmatrix}$"
          },
          "metadata": {}
        }
      ]
    },
    {
      "cell_type": "markdown",
      "source": [
        "## Exemplo B.13\n",
        "\n",
        "<center> $A = \\begin{bmatrix}\n",
        "0 & 1 \\\\\n",
        "-2 & -3 \\\\\n",
        "\\end{bmatrix}$</center>\n",
        "\n",
        "A equação característica é\n",
        "\n",
        "<center> $\\begin{bmatrix}\n",
        "λ𝐈 - Α\n",
        "\\end{bmatrix} =\n",
        "\\begin{bmatrix}\n",
        "λ & -1 \\\\\n",
        "2 & λ + 3 \\\\\n",
        "\\end{bmatrix} = λ^2 + 3λ + 2 = (λ+1)(λ+2) = 0$</center>\n",
        "\n",
        "Logo os autovalores são $λ_1 = -1, λ_2 = -2$, e\n",
        "\n",
        "<center> $e^{At} = β_0𝐈 + β_1A$</center>\n",
        "\n",
        "na qual\n",
        "\n",
        "<center> $\\begin{bmatrix}\n",
        "β_0 \\\\\n",
        "β_1\n",
        "\\end{bmatrix} =\n",
        "\\begin{bmatrix}\n",
        "1 & -1\\\\\n",
        "1 & -2\n",
        "\\end{bmatrix}^{-1}\n",
        "\\begin{bmatrix}\n",
        "e^{-t} \\\\\n",
        "e^{-2t}\n",
        "\\end{bmatrix} =\n",
        "\\begin{bmatrix}\n",
        "2 & -1\\\\\n",
        "1 & -1\n",
        "\\end{bmatrix}\n",
        "\\begin{bmatrix}\n",
        "e^{-t} \\\\\n",
        "e^{-2t}\n",
        "\\end{bmatrix} =\n",
        "\\begin{bmatrix}\n",
        "2e^{-t} & -e^{-2t}\\\\\n",
        "e^{-t} & -e^{-2t}\n",
        "\\end{bmatrix}\n",
        "$</center>\n",
        "\n",
        "e\n",
        "\n",
        "<center> $e^{At} = (2e^{-t}-e^{-2t})\\begin{bmatrix}1 & 0 \\\\ 0 & 1 \\\\\\end{bmatrix} + (e^{-t}-e^{-2t})\\begin{bmatrix}\n",
        "0 & 1 \\\\\n",
        "-2 & -3 \\\\\n",
        "\\end{bmatrix} = \\begin{bmatrix}\n",
        "2e^{-t}-e^{-2t} & e^{-t}-e^{-2t} \\\\\n",
        "-2e^{-t}+2e^{-2t} & -e^{-t}+2e^{-2t} \\\\\n",
        "\\end{bmatrix}$</center>"
      ],
      "metadata": {
        "id": "RFDeFJhNhHgy"
      }
    },
    {
      "cell_type": "markdown",
      "source": [
        "## MB.2 Operações de Calculadora"
      ],
      "metadata": {
        "id": "4588RZyKuPpM"
      }
    },
    {
      "cell_type": "code",
      "source": [
        "z = -3 -4j\n",
        "z"
      ],
      "metadata": {
        "colab": {
          "base_uri": "https://localhost:8080/"
        },
        "id": "rqwGUtyDuVeS",
        "outputId": "a58bd029-b5fc-4508-fc0b-152b6ab3faa7"
      },
      "execution_count": null,
      "outputs": [
        {
          "output_type": "execute_result",
          "data": {
            "text/plain": [
              "(-3-4j)"
            ]
          },
          "metadata": {},
          "execution_count": 1
        }
      ]
    },
    {
      "cell_type": "code",
      "source": [
        "z_real, z_imag = z.real, z.imag\n",
        "print(f\"z_real: {z_real}\")\n",
        "print(f\"z_imag: {z_imag}\")"
      ],
      "metadata": {
        "colab": {
          "base_uri": "https://localhost:8080/"
        },
        "id": "VSwUdNXOug8y",
        "outputId": "2462b50c-b197-41d3-acf8-c2a87d917cf8"
      },
      "execution_count": null,
      "outputs": [
        {
          "output_type": "stream",
          "name": "stdout",
          "text": [
            "z_real: -3.0\n",
            "z_imag: -4.0\n"
          ]
        }
      ]
    },
    {
      "cell_type": "code",
      "source": [
        "z_mag = np.sqrt(z_real**2 + z_imag**2)\n",
        "z_mag"
      ],
      "metadata": {
        "colab": {
          "base_uri": "https://localhost:8080/"
        },
        "id": "Ko6KgiAxu25K",
        "outputId": "185f2cbb-af49-4b57-938a-dd3b842bdb22"
      },
      "execution_count": null,
      "outputs": [
        {
          "output_type": "execute_result",
          "data": {
            "text/plain": [
              "5.0"
            ]
          },
          "metadata": {},
          "execution_count": 12
        }
      ]
    },
    {
      "cell_type": "code",
      "source": [
        "z_mag = np.sqrt(z*np.conj(z))\n",
        "z_mag"
      ],
      "metadata": {
        "colab": {
          "base_uri": "https://localhost:8080/"
        },
        "id": "fbV6B67jvJDt",
        "outputId": "5d3a3594-d9a9-4688-8a38-11720b5e2fd2"
      },
      "execution_count": null,
      "outputs": [
        {
          "output_type": "execute_result",
          "data": {
            "text/plain": [
              "(5+0j)"
            ]
          },
          "metadata": {},
          "execution_count": 13
        }
      ]
    },
    {
      "cell_type": "code",
      "source": [
        "z_mag = np.abs(z)\n",
        "z_mag"
      ],
      "metadata": {
        "colab": {
          "base_uri": "https://localhost:8080/"
        },
        "id": "mPkJsDEYvfYQ",
        "outputId": "8f9a157e-1538-4367-b6de-99cfbeb1c687"
      },
      "execution_count": null,
      "outputs": [
        {
          "output_type": "execute_result",
          "data": {
            "text/plain": [
              "5.0"
            ]
          },
          "metadata": {},
          "execution_count": 15
        }
      ]
    },
    {
      "cell_type": "code",
      "source": [
        "z_rad = np.angle(z)\n",
        "z_rad"
      ],
      "metadata": {
        "colab": {
          "base_uri": "https://localhost:8080/"
        },
        "id": "61IF2YOpvoKY",
        "outputId": "f1836f2f-a9fc-4320-bc34-9fe668ad6306"
      },
      "execution_count": null,
      "outputs": [
        {
          "output_type": "execute_result",
          "data": {
            "text/plain": [
              "-2.214297435588181"
            ]
          },
          "metadata": {},
          "execution_count": 16
        }
      ]
    },
    {
      "cell_type": "code",
      "source": [
        "z_deg = np.angle(z) * 180 / np.pi\n",
        "z_deg"
      ],
      "metadata": {
        "colab": {
          "base_uri": "https://localhost:8080/"
        },
        "id": "lrI36uUgvvJg",
        "outputId": "9315c764-0513-4972-bdae-5a12f6b30ef4"
      },
      "execution_count": null,
      "outputs": [
        {
          "output_type": "execute_result",
          "data": {
            "text/plain": [
              "-126.86989764584402"
            ]
          },
          "metadata": {},
          "execution_count": 17
        }
      ]
    },
    {
      "cell_type": "code",
      "source": [
        "z_deg = np.angle(z, deg=True)\n",
        "z_deg"
      ],
      "metadata": {
        "colab": {
          "base_uri": "https://localhost:8080/"
        },
        "id": "eQ3_-yhMv5Jj",
        "outputId": "745c8d37-2426-45d8-cd66-dd56ff8caeff"
      },
      "execution_count": null,
      "outputs": [
        {
          "output_type": "execute_result",
          "data": {
            "text/plain": [
              "-126.86989764584402"
            ]
          },
          "metadata": {},
          "execution_count": 18
        }
      ]
    },
    {
      "cell_type": "code",
      "source": [
        "z_rad = np.arctan2(z_imag, z_real)\n",
        "z_rad"
      ],
      "metadata": {
        "colab": {
          "base_uri": "https://localhost:8080/"
        },
        "id": "k3QgzCuRv_zv",
        "outputId": "05e8e884-250b-4e27-8463-0fa72b7875c2"
      },
      "execution_count": null,
      "outputs": [
        {
          "output_type": "execute_result",
          "data": {
            "text/plain": [
              "-2.214297435588181"
            ]
          },
          "metadata": {},
          "execution_count": 21
        }
      ]
    },
    {
      "cell_type": "code",
      "source": [
        "np.cos(1j)"
      ],
      "metadata": {
        "colab": {
          "base_uri": "https://localhost:8080/"
        },
        "id": "Rw14-YWojxdv",
        "outputId": "9538656b-eb25-4fc9-d0ea-8bb17fed6618"
      },
      "execution_count": null,
      "outputs": [
        {
          "output_type": "execute_result",
          "data": {
            "text/plain": [
              "(1.5430806348152437-0j)"
            ]
          },
          "metadata": {},
          "execution_count": 6
        }
      ]
    },
    {
      "cell_type": "code",
      "source": [
        "np.log(-1, dtype=complex)"
      ],
      "metadata": {
        "colab": {
          "base_uri": "https://localhost:8080/"
        },
        "id": "loTBIEJzkEoJ",
        "outputId": "570a14eb-a7b9-4187-84cd-9614d7872a56"
      },
      "execution_count": null,
      "outputs": [
        {
          "output_type": "execute_result",
          "data": {
            "text/plain": [
              "3.141592653589793j"
            ]
          },
          "metadata": {},
          "execution_count": 9
        }
      ]
    },
    {
      "cell_type": "markdown",
      "source": [
        "## MB.3 Operações Vetoriais"
      ],
      "metadata": {
        "id": "7QBbG563krZG"
      }
    },
    {
      "cell_type": "code",
      "source": [
        "k = np.arange(0,11,2)\n",
        "k"
      ],
      "metadata": {
        "colab": {
          "base_uri": "https://localhost:8080/"
        },
        "id": "_kOncW4qkveO",
        "outputId": "81d41e0c-a1cc-4342-9548-1ea2812b59f0"
      },
      "execution_count": null,
      "outputs": [
        {
          "output_type": "execute_result",
          "data": {
            "text/plain": [
              "array([ 0,  2,  4,  6,  8, 10])"
            ]
          },
          "metadata": {},
          "execution_count": 11
        }
      ]
    },
    {
      "cell_type": "code",
      "source": [
        "k = np.arange(11,0,-10/3)\n",
        "k"
      ],
      "metadata": {
        "colab": {
          "base_uri": "https://localhost:8080/"
        },
        "id": "5dnQHc8bkvfQ",
        "outputId": "f5b52892-c8a7-4575-9e34-af7fa903052d"
      },
      "execution_count": null,
      "outputs": [
        {
          "output_type": "execute_result",
          "data": {
            "text/plain": [
              "array([11.        ,  7.66666667,  4.33333333,  1.        ])"
            ]
          },
          "metadata": {},
          "execution_count": 13
        }
      ]
    },
    {
      "cell_type": "code",
      "source": [
        "k = np.arange(0, 12)\n",
        "k"
      ],
      "metadata": {
        "colab": {
          "base_uri": "https://localhost:8080/"
        },
        "id": "zjM2cf3MlJ27",
        "outputId": "bdce2f96-37bf-43e7-f08a-4897bc5822b8"
      },
      "execution_count": null,
      "outputs": [
        {
          "output_type": "execute_result",
          "data": {
            "text/plain": [
              "array([ 0,  1,  2,  3,  4,  5,  6,  7,  8,  9, 10, 11])"
            ]
          },
          "metadata": {},
          "execution_count": 15
        }
      ]
    },
    {
      "cell_type": "code",
      "source": [
        "k = np.arange(0,3)\n",
        "w = np.exp(1j*(np.pi/3 + 2*np.pi*k/3))\n",
        "w"
      ],
      "metadata": {
        "colab": {
          "base_uri": "https://localhost:8080/"
        },
        "id": "CbzaUSvr0PLi",
        "outputId": "724c4571-405e-4d0a-a147-af7cd6d48698"
      },
      "execution_count": null,
      "outputs": [
        {
          "output_type": "execute_result",
          "data": {
            "text/plain": [
              "array([ 0.5+8.66025404e-01j, -1. +1.22464680e-16j,  0.5-8.66025404e-01j])"
            ]
          },
          "metadata": {},
          "execution_count": 16
        }
      ]
    },
    {
      "cell_type": "code",
      "source": [
        "k = np.arange(0,100)\n",
        "w = np.exp(1j*(np.pi/100 + 2*np.pi*k/100))"
      ],
      "metadata": {
        "id": "Pvxuoyyh0pk1"
      },
      "execution_count": null,
      "outputs": []
    },
    {
      "cell_type": "code",
      "source": [
        "# zero index\n",
        "w[4]"
      ],
      "metadata": {
        "colab": {
          "base_uri": "https://localhost:8080/"
        },
        "id": "fw25iDKK0-FW",
        "outputId": "ce8fa340-e689-4420-d64e-34f9c911053e"
      },
      "execution_count": null,
      "outputs": [
        {
          "output_type": "execute_result",
          "data": {
            "text/plain": [
              "(0.9602936856769431+0.2789911060392293j)"
            ]
          },
          "metadata": {},
          "execution_count": 20
        }
      ]
    },
    {
      "cell_type": "code",
      "source": [
        "k[4]"
      ],
      "metadata": {
        "colab": {
          "base_uri": "https://localhost:8080/"
        },
        "id": "6bn3lsx51H89",
        "outputId": "12badd6b-5690-4a34-c008-18ab9fa200cf"
      },
      "execution_count": null,
      "outputs": [
        {
          "output_type": "execute_result",
          "data": {
            "text/plain": [
              "4"
            ]
          },
          "metadata": {},
          "execution_count": 21
        }
      ]
    },
    {
      "cell_type": "code",
      "source": [
        "w[97:100]"
      ],
      "metadata": {
        "colab": {
          "base_uri": "https://localhost:8080/"
        },
        "id": "diBCLKsn1KXi",
        "outputId": "2d58ac5d-437d-42a2-afcf-9845b4dd0cb2"
      },
      "execution_count": null,
      "outputs": [
        {
          "output_type": "execute_result",
          "data": {
            "text/plain": [
              "array([0.98768834-0.15643447j, 0.99556196-0.09410831j,\n",
              "       0.99950656-0.03141076j])"
            ]
          },
          "metadata": {},
          "execution_count": 23
        }
      ]
    },
    {
      "cell_type": "code",
      "source": [
        "t = np.arange(0, 0.2-0.2/500, 0.2/500)"
      ],
      "metadata": {
        "id": "ICI_3AdI1kgl"
      },
      "execution_count": null,
      "outputs": []
    },
    {
      "cell_type": "code",
      "source": [
        "f = np.sin(2*np.pi*10*t+np.pi/6)\n",
        "f[0]"
      ],
      "metadata": {
        "colab": {
          "base_uri": "https://localhost:8080/"
        },
        "id": "Q1BsaWB_2mJF",
        "outputId": "628280c3-0d7c-4639-ca2a-67c0cebe61e9"
      },
      "execution_count": null,
      "outputs": [
        {
          "output_type": "execute_result",
          "data": {
            "text/plain": [
              "0.49999999999999994"
            ]
          },
          "metadata": {},
          "execution_count": 7
        }
      ]
    },
    {
      "cell_type": "markdown",
      "source": [
        "## MB.4 Gráficos Simples"
      ],
      "metadata": {
        "id": "nmfUHhJD2yrn"
      }
    },
    {
      "cell_type": "code",
      "source": [
        "plt.plot(t,f)\n",
        "plt.xlabel('t')\n",
        "plt.ylabel('f(t)')\n",
        "plt.show()"
      ],
      "metadata": {
        "colab": {
          "base_uri": "https://localhost:8080/",
          "height": 449
        },
        "id": "-LkJs64_26YR",
        "outputId": "9bac3279-e8c7-485a-8713-541e92811cab"
      },
      "execution_count": null,
      "outputs": [
        {
          "output_type": "display_data",
          "data": {
            "text/plain": [
              "<Figure size 640x480 with 1 Axes>"
            ],
            "image/png": "[encoded data removed]"
          },
          "metadata": {}
        }
      ]
    },
    {
      "cell_type": "markdown",
      "source": [
        "$e^{\\frac{2πj}{n}}$"
      ],
      "metadata": {
        "id": "HYX_pU0t6z60"
      }
    },
    {
      "cell_type": "code",
      "source": [
        "roots = np.exp(1j * np.pi * (2 * np.arange(100) + 1) / 100)\n",
        "plt.figure(figsize=(4, 4))\n",
        "plt.scatter(roots.real, roots.imag)\n",
        "plt.xlabel('Real')\n",
        "plt.ylabel('Imaginary')\n",
        "plt.axis('equal')\n",
        "plt.title('100 Roots of $w^{100} = -1$')\n",
        "plt.show()"
      ],
      "metadata": {
        "colab": {
          "base_uri": "https://localhost:8080/",
          "height": 412
        },
        "id": "oYmyKkTl3rHH",
        "outputId": "07a4410b-0283-4829-86cc-f3e7a7c6e56d"
      },
      "execution_count": null,
      "outputs": [
        {
          "output_type": "display_data",
          "data": {
            "text/plain": [
              "<Figure size 400x400 with 1 Axes>"
            ],
            "image/png": "[encoded data removed]"
          },
          "metadata": {}
        }
      ]
    },
    {
      "cell_type": "markdown",
      "source": [
        "## MB.5 Operações de Elemento por Elemento"
      ],
      "metadata": {
        "id": "atALMg2cA5Zm"
      }
    },
    {
      "cell_type": "code",
      "source": [
        "# de exemplos anteriores\n",
        "t = np.arange(0, 0.2-0.2/500, 0.2/500)\n",
        "f = np.sin(2*np.pi*10*t+np.pi/6)"
      ],
      "metadata": {
        "id": "mrvd4xXuBBCD"
      },
      "execution_count": null,
      "outputs": []
    },
    {
      "cell_type": "code",
      "source": [
        "g = np.exp(-10*t)"
      ],
      "metadata": {
        "id": "cDTI_mnPBeLQ"
      },
      "execution_count": null,
      "outputs": []
    },
    {
      "cell_type": "code",
      "source": [
        "h = f * g"
      ],
      "metadata": {
        "id": "OWAJGRj0Bj3R"
      },
      "execution_count": null,
      "outputs": []
    },
    {
      "cell_type": "code",
      "source": [
        "plt.plot(t,f, label='$f(t)$')\n",
        "plt.plot(t,h, '--', label='$g(t)$')\n",
        "plt.xlabel('t')\n",
        "plt.ylabel('Amplitude')\n",
        "plt.legend()\n",
        "plt.show()"
      ],
      "metadata": {
        "colab": {
          "base_uri": "https://localhost:8080/",
          "height": 449
        },
        "id": "Sp0dP9klBrNM",
        "outputId": "b05aeba0-389a-48bb-b594-e6a2b0ffb069"
      },
      "execution_count": null,
      "outputs": [
        {
          "output_type": "display_data",
          "data": {
            "text/plain": [
              "<Figure size 640x480 with 1 Axes>"
            ],
            "image/png": "[encoded data removed]"
          },
          "metadata": {}
        }
      ]
    },
    {
      "cell_type": "markdown",
      "source": [
        "## MB.6 Operações Matriciais"
      ],
      "metadata": {
        "id": "Q2LUKFbeCVRv"
      }
    },
    {
      "cell_type": "code",
      "source": [
        "r = np.array([1,0,0])\n",
        "r"
      ],
      "metadata": {
        "colab": {
          "base_uri": "https://localhost:8080/"
        },
        "id": "3I_jkyMKCbOg",
        "outputId": "72d948c8-d245-4362-e970-3d6740632936"
      },
      "execution_count": null,
      "outputs": [
        {
          "output_type": "execute_result",
          "data": {
            "text/plain": [
              "array([1, 0, 0])"
            ]
          },
          "metadata": {},
          "execution_count": 19
        }
      ]
    },
    {
      "cell_type": "code",
      "source": [
        "A = np.array([[2,3],[4,5],[0,6]])\n",
        "A"
      ],
      "metadata": {
        "colab": {
          "base_uri": "https://localhost:8080/"
        },
        "id": "tJ3bXUUKCiib",
        "outputId": "30e85091-da72-49e9-8dc7-690c7672a1d6"
      },
      "execution_count": null,
      "outputs": [
        {
          "output_type": "execute_result",
          "data": {
            "text/plain": [
              "array([[2, 3],\n",
              "       [4, 5],\n",
              "       [0, 6]])"
            ]
          },
          "metadata": {},
          "execution_count": 20
        }
      ]
    },
    {
      "cell_type": "code",
      "source": [
        "c = r[...,np.newaxis]\n",
        "c"
      ],
      "metadata": {
        "colab": {
          "base_uri": "https://localhost:8080/"
        },
        "id": "lyxjxtSiC5k_",
        "outputId": "bdafe7ad-a8c3-4f16-9c63-8f5c22001053"
      },
      "execution_count": null,
      "outputs": [
        {
          "output_type": "execute_result",
          "data": {
            "text/plain": [
              "array([[1],\n",
              "       [0],\n",
              "       [0]])"
            ]
          },
          "metadata": {},
          "execution_count": 23
        }
      ]
    },
    {
      "cell_type": "code",
      "source": [
        "B = np.concatenate([c, A], axis=1)\n",
        "B"
      ],
      "metadata": {
        "colab": {
          "base_uri": "https://localhost:8080/"
        },
        "id": "wxqUsvyQDb_0",
        "outputId": "f7674598-01d4-49a8-e9f6-bb76cdb0bcd8"
      },
      "execution_count": null,
      "outputs": [
        {
          "output_type": "execute_result",
          "data": {
            "text/plain": [
              "array([[1, 2, 3],\n",
              "       [0, 4, 5],\n",
              "       [0, 0, 6]])"
            ]
          },
          "metadata": {},
          "execution_count": 27
        }
      ]
    },
    {
      "cell_type": "code",
      "source": [
        "B[0,1]"
      ],
      "metadata": {
        "colab": {
          "base_uri": "https://localhost:8080/"
        },
        "id": "mX0yz8-4ErbY",
        "outputId": "add41f97-d7d8-4a70-e7af-c518beeef610"
      },
      "execution_count": null,
      "outputs": [
        {
          "output_type": "execute_result",
          "data": {
            "text/plain": [
              "2"
            ]
          },
          "metadata": {},
          "execution_count": 29
        }
      ]
    },
    {
      "cell_type": "code",
      "source": [
        "B[0:2,1:3]"
      ],
      "metadata": {
        "colab": {
          "base_uri": "https://localhost:8080/"
        },
        "id": "ZSq_9U_GEyvi",
        "outputId": "33a2a88c-a374-4ebc-8515-72ded4039754"
      },
      "execution_count": null,
      "outputs": [
        {
          "output_type": "execute_result",
          "data": {
            "text/plain": [
              "array([[2, 3],\n",
              "       [4, 5]])"
            ]
          },
          "metadata": {},
          "execution_count": 44
        }
      ]
    },
    {
      "cell_type": "code",
      "source": [
        "B[1,:]"
      ],
      "metadata": {
        "colab": {
          "base_uri": "https://localhost:8080/"
        },
        "id": "CWucBHUCF5oB",
        "outputId": "5d7e72fc-dcf3-446f-affa-71cc4992f137"
      },
      "execution_count": null,
      "outputs": [
        {
          "output_type": "execute_result",
          "data": {
            "text/plain": [
              "array([0, 4, 5])"
            ]
          },
          "metadata": {},
          "execution_count": 46
        }
      ]
    },
    {
      "cell_type": "code",
      "source": [
        "A = np.array([[1,-2,3],[-np.sqrt(3), 1, -np.sqrt(5)],[3, -np.sqrt(7), 1]])\n",
        "y = np.array([[1],[np.pi],[np.exp(1)]])"
      ],
      "metadata": {
        "id": "CalulQq2F_OJ"
      },
      "execution_count": null,
      "outputs": []
    },
    {
      "cell_type": "code",
      "source": [
        "x = np.linalg.lstsq(A,y, rcond=None)\n",
        "x"
      ],
      "metadata": {
        "colab": {
          "base_uri": "https://localhost:8080/"
        },
        "id": "e4u4EqFgG2Ye",
        "outputId": "9082b949-eb18-44d9-85fb-e9d6fef28424"
      },
      "execution_count": null,
      "outputs": [
        {
          "output_type": "execute_result",
          "data": {
            "text/plain": [
              "(array([[-1.99989019],\n",
              "        [-3.89977711],\n",
              "        [-1.59988801]]),\n",
              " array([], dtype=float64),\n",
              " 3,\n",
              " array([5.91269542, 2.10252927, 0.78702191]))"
            ]
          },
          "metadata": {},
          "execution_count": 64
        }
      ]
    },
    {
      "cell_type": "code",
      "source": [
        "x1 = np.linalg.det(np.concatenate([y, A[:, 1:3]], axis=1))/np.linalg.det(A)\n",
        "x1"
      ],
      "metadata": {
        "colab": {
          "base_uri": "https://localhost:8080/"
        },
        "id": "XhpHxIV8I9UT",
        "outputId": "7d5805dc-7b0d-47e8-9458-09da7fe10405"
      },
      "execution_count": null,
      "outputs": [
        {
          "output_type": "execute_result",
          "data": {
            "text/plain": [
              "-1.9998901878846425"
            ]
          },
          "metadata": {},
          "execution_count": 74
        }
      ]
    },
    {
      "cell_type": "code",
      "source": [
        "alfa = np.arange(0,11)"
      ],
      "metadata": {
        "id": "tv2t39wpJ8XB"
      },
      "execution_count": null,
      "outputs": []
    },
    {
      "cell_type": "code",
      "source": [
        "t = np.arange(0, 0.201, 0.001)"
      ],
      "metadata": {
        "id": "9VK-0V-cKCCZ"
      },
      "execution_count": null,
      "outputs": []
    },
    {
      "cell_type": "code",
      "source": [
        "T = np.outer(t, np.ones(11))"
      ],
      "metadata": {
        "id": "4xESEbCAKTWd"
      },
      "execution_count": null,
      "outputs": []
    },
    {
      "cell_type": "code",
      "source": [
        "H = np.exp(-T @ np.diag(alfa)) * np.sin(2 * np.pi * 10 * T + np.pi / 6)"
      ],
      "metadata": {
        "id": "vAopy_u3MH0X"
      },
      "execution_count": null,
      "outputs": []
    },
    {
      "cell_type": "code",
      "source": [
        "plt.plot(t,H)\n",
        "plt.xlabel('t')\n",
        "plt.ylabel('h(t)')\n",
        "plt.show()"
      ],
      "metadata": {
        "colab": {
          "base_uri": "https://localhost:8080/",
          "height": 449
        },
        "id": "hAhSuJr5RB5M",
        "outputId": "1823c756-34d3-41d6-df1f-0294fd54bd8b"
      },
      "execution_count": null,
      "outputs": [
        {
          "output_type": "display_data",
          "data": {
            "text/plain": [
              "<Figure size 640x480 with 1 Axes>"
            ],
            "image/png": "[encoded data removed]"
          },
          "metadata": {}
        }
      ]
    },
    {
      "cell_type": "markdown",
      "source": [
        "## MB.7 Expansão em Frações Parciais"
      ],
      "metadata": {
        "id": "qaYhMHUjTgkO"
      }
    },
    {
      "cell_type": "code",
      "source": [
        "\n",
        "\n",
        "[R, P, K] = scipy.signal.residue([1, 0, 0, 0, 0, np.pi], [1, -np.sqrt(8), 0, np.sqrt(32), -4], tol=0.001, rtype='avg')\n",
        "print(f\"R = {R}\")\n",
        "print(f\"P = {P}\")\n",
        "print(f\"K = {K}\")"
      ],
      "metadata": {
        "colab": {
          "base_uri": "https://localhost:8080/"
        },
        "id": "xQXrqNkoTrFs",
        "outputId": "d2ee394b-8335-4792-98c8-f78b769b20d2"
      },
      "execution_count": null,
      "outputs": [
        {
          "output_type": "stream",
          "name": "stdout",
          "text": [
            "R = [0.11115991-0.j 7.88884009+0.j 5.97126195+0.j 3.11072073+0.j]\n",
            "P = [-1.41421356+0.j  1.41421356+0.j  1.41421356+0.j  1.41421356+0.j]\n",
            "K = [1.         2.82842712]\n"
          ]
        }
      ]
    },
    {
      "cell_type": "markdown",
      "source": [
        "## Problemas"
      ],
      "metadata": {
        "id": "STDb8OVgWsoA"
      }
    },
    {
      "cell_type": "markdown",
      "source": [
        "### B.1\n",
        "\n",
        "Dado um número complexo $w = x + jy$, o complexo conjugado de w é definido em coordenadas retangulares como $w* = x – jy$. Use este fato para determinar o complexo conjugado na\n",
        "forma polar."
      ],
      "metadata": {
        "id": "ECFlzEjxW6vw"
      }
    },
    {
      "cell_type": "code",
      "source": [
        "from sympy.abc import x, y\n",
        "\n",
        "w = x + 1j*y\n",
        "\n",
        "# Calculate the magnitude\n",
        "r = sym.sqrt(x**2 + y**2)\n",
        "\n",
        "# Calculate the argument\n",
        "theta = sym.exp(sym.I*sym.atan(y/x))\n",
        "theta2 = sym.exp(-1*sym.I*sym.atan(y/x))\n",
        "\n",
        "display(Math(\"%s = %s\" %(sym.latex(w), sym.latex(r*theta))))\n",
        "display(Math(\"%s = %s\" %(sym.latex(sym.conjugate(w)), sym.latex(r*theta2))))"
      ],
      "metadata": {
        "colab": {
          "base_uri": "https://localhost:8080/",
          "height": 67
        },
        "id": "1MvB6m5JZUAA",
        "outputId": "122ad28e-6d77-469d-9d57-c5a047c762c9"
      },
      "execution_count": 7,
      "outputs": [
        {
          "output_type": "display_data",
          "data": {
            "text/plain": [
              "<IPython.core.display.Math object>"
            ],
            "text/latex": "$\\displaystyle x + 1.0 i y = \\sqrt{x^{2} + y^{2}} e^{i \\operatorname{atan}{\\left(\\frac{y}{x} \\right)}}$"
          },
          "metadata": {}
        },
        {
          "output_type": "display_data",
          "data": {
            "text/plain": [
              "<IPython.core.display.Math object>"
            ],
            "text/latex": "$\\displaystyle \\overline{x} - 1.0 i \\overline{y} = \\sqrt{x^{2} + y^{2}} e^{- i \\operatorname{atan}{\\left(\\frac{y}{x} \\right)}}$"
          },
          "metadata": {}
        }
      ]
    },
    {
      "cell_type": "markdown",
      "source": [
        "### B.2 Escreva os seguintes números na forma polar:\n",
        "\n",
        "(a) $1 + j$\n",
        "\n",
        "(b) $-4 + j3$\n",
        "\n",
        "(c) $(j+1)(-4+j3)$\n",
        "\n",
        "(d) $e^{jπ} + 2e^{-j\\pi/4}$\n",
        "\n",
        "(e) $e^j +  1$\n",
        "\n",
        "(f) $1/2^j$"
      ],
      "metadata": {
        "id": "QDkH5zd0gupD"
      }
    },
    {
      "cell_type": "code",
      "source": [
        "a = 1 + 1j"
      ],
      "metadata": {
        "id": "OIs1qiWyhQFB"
      },
      "execution_count": 6,
      "outputs": []
    },
    {
      "cell_type": "markdown",
      "source": [
        "##Matlab Seção 1: Trabalhando com funções\n",
        "\n",
        "*   Item da lista\n",
        "*   Item da lista\n",
        "\n"
      ],
      "metadata": {
        "id": "Zf4ZkeNY-aMk"
      }
    },
    {
      "cell_type": "code",
      "source": [
        "t = np.arange(-2,2,0.01)\n",
        "f = np.exp(-t) * np.cos(2*np.pi*t)\n",
        "\n",
        "plt.plot(t, f)\n",
        "plt.plot(t, np.exp(-t), '--', color='gray')\n",
        "plt.plot(t, -np.exp(-t), '--', color='gray')\n",
        "plt.xlabel('t')\n",
        "plt.ylabel('f(t)')\n",
        "plt.show()"
      ],
      "metadata": {
        "colab": {
          "base_uri": "https://localhost:8080/",
          "height": 452
        },
        "id": "sG3wXr3Y-pw8",
        "outputId": "efddd7d0-cd08-4deb-f607-994a96a85de3"
      },
      "execution_count": null,
      "outputs": [
        {
          "output_type": "display_data",
          "data": {
            "text/plain": [
              "<Figure size 640x480 with 1 Axes>"
            ],
            "image/png": "[encoded data removed]"
          },
          "metadata": {}
        }
      ]
    },
    {
      "cell_type": "code",
      "source": [
        "deg = (t>=0)*1 # multiplicar por 1 é opcional pois o resultado de t>=0 já retorna 1\n",
        "\n",
        "plt.plot(t,deg)\n",
        "plt.show()"
      ],
      "metadata": {
        "colab": {
          "base_uri": "https://localhost:8080/",
          "height": 430
        },
        "id": "TVvTY2m4CBVs",
        "outputId": "a7e235d3-334b-44e7-84ae-3a8ff4cdcc0d"
      },
      "execution_count": null,
      "outputs": [
        {
          "output_type": "display_data",
          "data": {
            "text/plain": [
              "<Figure size 640x480 with 1 Axes>"
            ],
            "image/png": "[encoded data removed]"
          },
          "metadata": {}
        }
      ]
    },
    {
      "cell_type": "code",
      "source": [
        "p = []\n",
        "for i in t:\n",
        "  p.append(1 if i >=0 and i < 1 else 0)\n",
        "\n",
        "plt.plot(t, p)\n",
        "plt.show()"
      ],
      "metadata": {
        "colab": {
          "base_uri": "https://localhost:8080/",
          "height": 430
        },
        "id": "g5DdI6GrDyb7",
        "outputId": "931a0d37-0386-4737-e5e3-c33f2af98e68"
      },
      "execution_count": null,
      "outputs": [
        {
          "output_type": "display_data",
          "data": {
            "text/plain": [
              "<Figure size 640x480 with 1 Axes>"
            ],
            "image/png": "[encoded data removed]"
          },
          "metadata": {}
        }
      ]
    },
    {
      "cell_type": "code",
      "source": [
        "ut = (t>=0)*1\n",
        "ut1 = (t>=1)*1\n",
        "p = ut - ut1\n",
        "\n",
        "plt.plot(t,p)\n",
        "plt.show()"
      ],
      "metadata": {
        "colab": {
          "base_uri": "https://localhost:8080/",
          "height": 430
        },
        "id": "EhKpFXCp00Xv",
        "outputId": "351bdc31-09f5-470e-fe5f-464226b88075"
      },
      "execution_count": null,
      "outputs": [
        {
          "output_type": "display_data",
          "data": {
            "text/plain": [
              "<Figure size 640x480 with 1 Axes>"
            ],
            "image/png": "[encoded data removed]"
          },
          "metadata": {}
        }
      ]
    },
    {
      "cell_type": "code",
      "source": [
        "gt = f * ut\n",
        "g2t1 = np.exp(-2*t) * np.cos(2*np.pi*2*t) * ut\n",
        "\n",
        "plt.plot(t,gt)\n",
        "plt.show()\n",
        "plt.plot(t,g2t1)\n",
        "plt.show()"
      ],
      "metadata": {
        "colab": {
          "base_uri": "https://localhost:8080/",
          "height": 843
        },
        "id": "9BtslK1s23ZV",
        "outputId": "2a553e56-dfac-431b-9665-ed925b0511ed"
      },
      "execution_count": null,
      "outputs": [
        {
          "output_type": "display_data",
          "data": {
            "text/plain": [
              "<Figure size 640x480 with 1 Axes>"
            ],
            "image/png": "[encoded data removed]"
          },
          "metadata": {}
        },
        {
          "output_type": "display_data",
          "data": {
            "text/plain": [
              "<Figure size 640x480 with 1 Axes>"
            ],
            "image/png": "[encoded data removed]"
          },
          "metadata": {}
        }
      ]
    }
  ]
}